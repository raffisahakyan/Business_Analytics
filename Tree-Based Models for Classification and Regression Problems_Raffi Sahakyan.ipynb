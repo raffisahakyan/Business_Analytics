{
 "cells": [
  {
   "cell_type": "markdown",
   "metadata": {},
   "source": [
    "## Problem 1 - Predicting Churn - Classification Problem"
   ]
  },
  {
   "cell_type": "markdown",
   "metadata": {},
   "source": [
    "Use Churn.xls file (provided on GitHub) to predict Customer churn. Data should be transformed whenever necessarily. Make sure to tune all 4 models (including Logistic Regression) to achieve best possible result for each according to carefully selected evaluation metric.\n",
    "\n",
    "Note: make sure to normalize (scale with max or standardize) inputs in both tasks and observe potential change in results."
   ]
  },
  {
   "cell_type": "code",
   "execution_count": 1,
   "metadata": {},
   "outputs": [],
   "source": [
    "import pandas as pd\n",
    "import numpy as np\n",
    "import math\n",
    "import matplotlib.pyplot as plt\n",
    "import seaborn as sns\n",
    "\n",
    "from sklearn.tree import DecisionTreeClassifier, DecisionTreeRegressor\n",
    "from sklearn.linear_model import LogisticRegression, LinearRegression\n",
    "from sklearn.ensemble import RandomForestClassifier, GradientBoostingClassifier, RandomForestRegressor, GradientBoostingRegressor\n",
    "from sklearn.preprocessing import MinMaxScaler, StandardScaler\n",
    "from sklearn import preprocessing\n",
    "from sklearn.pipeline import Pipeline\n",
    "\n",
    "from sklearn.metrics import recall_score, roc_auc_score, mean_squared_error, confusion_matrix\n",
    "from sklearn.model_selection import train_test_split, cross_val_score, GridSearchCV, RandomizedSearchCV"
   ]
  },
  {
   "cell_type": "code",
   "execution_count": 2,
   "metadata": {},
   "outputs": [],
   "source": [
    "churn_raw = pd.read_excel(\"https://github.com/HrantDavtyan/BA_BA/blob/master/Churn.xls?raw=true\")"
   ]
  },
  {
   "cell_type": "code",
   "execution_count": 3,
   "metadata": {},
   "outputs": [
    {
     "data": {
      "text/html": [
       "<div>\n",
       "<style scoped>\n",
       "    .dataframe tbody tr th:only-of-type {\n",
       "        vertical-align: middle;\n",
       "    }\n",
       "\n",
       "    .dataframe tbody tr th {\n",
       "        vertical-align: top;\n",
       "    }\n",
       "\n",
       "    .dataframe thead th {\n",
       "        text-align: right;\n",
       "    }\n",
       "</style>\n",
       "<table border=\"1\" class=\"dataframe\">\n",
       "  <thead>\n",
       "    <tr style=\"text-align: right;\">\n",
       "      <th></th>\n",
       "      <th>Account Length</th>\n",
       "      <th>VMail Message</th>\n",
       "      <th>Day Mins</th>\n",
       "      <th>Eve Mins</th>\n",
       "      <th>Night Mins</th>\n",
       "      <th>Intl Mins</th>\n",
       "      <th>CustServ Calls</th>\n",
       "      <th>Churn</th>\n",
       "      <th>Int'l Plan</th>\n",
       "      <th>VMail Plan</th>\n",
       "      <th>...</th>\n",
       "      <th>Day Charge</th>\n",
       "      <th>Eve Calls</th>\n",
       "      <th>Eve Charge</th>\n",
       "      <th>Night Calls</th>\n",
       "      <th>Night Charge</th>\n",
       "      <th>Intl Calls</th>\n",
       "      <th>Intl Charge</th>\n",
       "      <th>State</th>\n",
       "      <th>Area Code</th>\n",
       "      <th>Phone</th>\n",
       "    </tr>\n",
       "  </thead>\n",
       "  <tbody>\n",
       "    <tr>\n",
       "      <th>0</th>\n",
       "      <td>128</td>\n",
       "      <td>25</td>\n",
       "      <td>265.1</td>\n",
       "      <td>197.4</td>\n",
       "      <td>244.7</td>\n",
       "      <td>10.0</td>\n",
       "      <td>1</td>\n",
       "      <td>0</td>\n",
       "      <td>0</td>\n",
       "      <td>1</td>\n",
       "      <td>...</td>\n",
       "      <td>45.07</td>\n",
       "      <td>99</td>\n",
       "      <td>16.78</td>\n",
       "      <td>91</td>\n",
       "      <td>11.01</td>\n",
       "      <td>3</td>\n",
       "      <td>2.7</td>\n",
       "      <td>KS</td>\n",
       "      <td>415</td>\n",
       "      <td>382-4657</td>\n",
       "    </tr>\n",
       "    <tr>\n",
       "      <th>1</th>\n",
       "      <td>107</td>\n",
       "      <td>26</td>\n",
       "      <td>161.6</td>\n",
       "      <td>195.5</td>\n",
       "      <td>254.4</td>\n",
       "      <td>13.7</td>\n",
       "      <td>1</td>\n",
       "      <td>0</td>\n",
       "      <td>0</td>\n",
       "      <td>1</td>\n",
       "      <td>...</td>\n",
       "      <td>27.47</td>\n",
       "      <td>103</td>\n",
       "      <td>16.62</td>\n",
       "      <td>103</td>\n",
       "      <td>11.45</td>\n",
       "      <td>3</td>\n",
       "      <td>3.7</td>\n",
       "      <td>OH</td>\n",
       "      <td>415</td>\n",
       "      <td>371-7191</td>\n",
       "    </tr>\n",
       "  </tbody>\n",
       "</table>\n",
       "<p>2 rows × 21 columns</p>\n",
       "</div>"
      ],
      "text/plain": [
       "   Account Length  VMail Message  Day Mins  Eve Mins  Night Mins  Intl Mins  \\\n",
       "0             128             25     265.1     197.4       244.7       10.0   \n",
       "1             107             26     161.6     195.5       254.4       13.7   \n",
       "\n",
       "   CustServ Calls  Churn  Int'l Plan  VMail Plan    ...     Day Charge  \\\n",
       "0               1      0           0           1    ...          45.07   \n",
       "1               1      0           0           1    ...          27.47   \n",
       "\n",
       "   Eve Calls  Eve Charge  Night Calls  Night Charge  Intl Calls  Intl Charge  \\\n",
       "0         99       16.78           91         11.01           3          2.7   \n",
       "1        103       16.62          103         11.45           3          3.7   \n",
       "\n",
       "   State Area Code     Phone  \n",
       "0     KS       415  382-4657  \n",
       "1     OH       415  371-7191  \n",
       "\n",
       "[2 rows x 21 columns]"
      ]
     },
     "execution_count": 3,
     "metadata": {},
     "output_type": "execute_result"
    }
   ],
   "source": [
    "churn_raw.head(2)"
   ]
  },
  {
   "cell_type": "code",
   "execution_count": 4,
   "metadata": {},
   "outputs": [
    {
     "name": "stdout",
     "output_type": "stream",
     "text": [
      "<class 'pandas.core.frame.DataFrame'>\n",
      "RangeIndex: 3333 entries, 0 to 3332\n",
      "Data columns (total 21 columns):\n",
      "Account Length    3333 non-null int64\n",
      "VMail Message     3333 non-null int64\n",
      "Day Mins          3333 non-null float64\n",
      "Eve Mins          3333 non-null float64\n",
      "Night Mins        3333 non-null float64\n",
      "Intl Mins         3333 non-null float64\n",
      "CustServ Calls    3333 non-null int64\n",
      "Churn             3333 non-null int64\n",
      "Int'l Plan        3333 non-null int64\n",
      "VMail Plan        3333 non-null int64\n",
      "Day Calls         3333 non-null int64\n",
      "Day Charge        3333 non-null float64\n",
      "Eve Calls         3333 non-null int64\n",
      "Eve Charge        3333 non-null float64\n",
      "Night Calls       3333 non-null int64\n",
      "Night Charge      3333 non-null float64\n",
      "Intl Calls        3333 non-null int64\n",
      "Intl Charge       3333 non-null float64\n",
      "State             3333 non-null object\n",
      "Area Code         3333 non-null int64\n",
      "Phone             3333 non-null object\n",
      "dtypes: float64(8), int64(11), object(2)\n",
      "memory usage: 546.9+ KB\n"
     ]
    }
   ],
   "source": [
    "churn_raw.info()\n",
    "#I will transform the data before applying models\n",
    "#It is important to note that there are no null values"
   ]
  },
  {
   "cell_type": "code",
   "execution_count": 5,
   "metadata": {},
   "outputs": [
    {
     "data": {
      "image/png": "[encoded data removed]",
      "text/plain": [
       "<matplotlib.figure.Figure at 0x1a18b25828>"
      ]
     },
     "metadata": {},
     "output_type": "display_data"
    }
   ],
   "source": [
    "churn_no_object = churn_raw.select_dtypes(exclude=[\"object\"])\n",
    "sns.heatmap(churn_no_object.corr())\n",
    "plt.show()"
   ]
  },
  {
   "cell_type": "code",
   "execution_count": 6,
   "metadata": {},
   "outputs": [
    {
     "data": {
      "text/plain": [
       "0    85.508551\n",
       "1    14.491449\n",
       "Name: Churn, dtype: float64"
      ]
     },
     "execution_count": 6,
     "metadata": {},
     "output_type": "execute_result"
    }
   ],
   "source": [
    "#Benchmarking\n",
    "churn_raw.Churn.value_counts()/len(churn_raw)*100"
   ]
  },
  {
   "cell_type": "code",
   "execution_count": 7,
   "metadata": {},
   "outputs": [
    {
     "data": {
      "text/html": [
       "<div>\n",
       "<style scoped>\n",
       "    .dataframe tbody tr th:only-of-type {\n",
       "        vertical-align: middle;\n",
       "    }\n",
       "\n",
       "    .dataframe tbody tr th {\n",
       "        vertical-align: top;\n",
       "    }\n",
       "\n",
       "    .dataframe thead th {\n",
       "        text-align: right;\n",
       "    }\n",
       "</style>\n",
       "<table border=\"1\" class=\"dataframe\">\n",
       "  <thead>\n",
       "    <tr style=\"text-align: right;\">\n",
       "      <th></th>\n",
       "      <th>Day Mins</th>\n",
       "      <th>Day Charge</th>\n",
       "    </tr>\n",
       "  </thead>\n",
       "  <tbody>\n",
       "    <tr>\n",
       "      <th>Day Mins</th>\n",
       "      <td>1.0</td>\n",
       "      <td>1.0</td>\n",
       "    </tr>\n",
       "    <tr>\n",
       "      <th>Day Charge</th>\n",
       "      <td>1.0</td>\n",
       "      <td>1.0</td>\n",
       "    </tr>\n",
       "  </tbody>\n",
       "</table>\n",
       "</div>"
      ],
      "text/plain": [
       "            Day Mins  Day Charge\n",
       "Day Mins         1.0         1.0\n",
       "Day Charge       1.0         1.0"
      ]
     },
     "execution_count": 7,
     "metadata": {},
     "output_type": "execute_result"
    }
   ],
   "source": [
    "churn_raw[['Day Mins','Day Charge']].corr(method='pearson', min_periods=1)\n",
    "#This means that 'Day Mins' and 'Day Charge columns are perfectly correlated, \n",
    "#So we can drop 'Day Mins' column."
   ]
  },
  {
   "cell_type": "code",
   "execution_count": 8,
   "metadata": {},
   "outputs": [
    {
     "data": {
      "text/html": [
       "<div>\n",
       "<style scoped>\n",
       "    .dataframe tbody tr th:only-of-type {\n",
       "        vertical-align: middle;\n",
       "    }\n",
       "\n",
       "    .dataframe tbody tr th {\n",
       "        vertical-align: top;\n",
       "    }\n",
       "\n",
       "    .dataframe thead th {\n",
       "        text-align: right;\n",
       "    }\n",
       "</style>\n",
       "<table border=\"1\" class=\"dataframe\">\n",
       "  <thead>\n",
       "    <tr style=\"text-align: right;\">\n",
       "      <th></th>\n",
       "      <th>Eve Mins</th>\n",
       "      <th>Eve Charge</th>\n",
       "    </tr>\n",
       "  </thead>\n",
       "  <tbody>\n",
       "    <tr>\n",
       "      <th>Eve Mins</th>\n",
       "      <td>1.0</td>\n",
       "      <td>1.0</td>\n",
       "    </tr>\n",
       "    <tr>\n",
       "      <th>Eve Charge</th>\n",
       "      <td>1.0</td>\n",
       "      <td>1.0</td>\n",
       "    </tr>\n",
       "  </tbody>\n",
       "</table>\n",
       "</div>"
      ],
      "text/plain": [
       "            Eve Mins  Eve Charge\n",
       "Eve Mins         1.0         1.0\n",
       "Eve Charge       1.0         1.0"
      ]
     },
     "execution_count": 8,
     "metadata": {},
     "output_type": "execute_result"
    }
   ],
   "source": [
    "churn_raw[['Eve Mins','Eve Charge']].corr(method='pearson', min_periods=1)\n",
    "#This means that 'Eve Mins' and 'Eve Charge columns are perfectly correlated, \n",
    "#So we can drop 'Eve Mins' column."
   ]
  },
  {
   "cell_type": "code",
   "execution_count": 9,
   "metadata": {},
   "outputs": [
    {
     "data": {
      "text/html": [
       "<div>\n",
       "<style scoped>\n",
       "    .dataframe tbody tr th:only-of-type {\n",
       "        vertical-align: middle;\n",
       "    }\n",
       "\n",
       "    .dataframe tbody tr th {\n",
       "        vertical-align: top;\n",
       "    }\n",
       "\n",
       "    .dataframe thead th {\n",
       "        text-align: right;\n",
       "    }\n",
       "</style>\n",
       "<table border=\"1\" class=\"dataframe\">\n",
       "  <thead>\n",
       "    <tr style=\"text-align: right;\">\n",
       "      <th></th>\n",
       "      <th>Night Mins</th>\n",
       "      <th>Night Charge</th>\n",
       "    </tr>\n",
       "  </thead>\n",
       "  <tbody>\n",
       "    <tr>\n",
       "      <th>Night Mins</th>\n",
       "      <td>1.000000</td>\n",
       "      <td>0.999999</td>\n",
       "    </tr>\n",
       "    <tr>\n",
       "      <th>Night Charge</th>\n",
       "      <td>0.999999</td>\n",
       "      <td>1.000000</td>\n",
       "    </tr>\n",
       "  </tbody>\n",
       "</table>\n",
       "</div>"
      ],
      "text/plain": [
       "              Night Mins  Night Charge\n",
       "Night Mins      1.000000      0.999999\n",
       "Night Charge    0.999999      1.000000"
      ]
     },
     "execution_count": 9,
     "metadata": {},
     "output_type": "execute_result"
    }
   ],
   "source": [
    "churn_raw[['Night Mins','Night Charge']].corr(method='pearson', min_periods=1)\n",
    "#This means that 'Night Mins' and 'Night Charge columns are perfectly correlated, \n",
    "#So we can drop 'Night Mins' column."
   ]
  },
  {
   "cell_type": "code",
   "execution_count": 10,
   "metadata": {},
   "outputs": [
    {
     "data": {
      "text/html": [
       "<div>\n",
       "<style scoped>\n",
       "    .dataframe tbody tr th:only-of-type {\n",
       "        vertical-align: middle;\n",
       "    }\n",
       "\n",
       "    .dataframe tbody tr th {\n",
       "        vertical-align: top;\n",
       "    }\n",
       "\n",
       "    .dataframe thead th {\n",
       "        text-align: right;\n",
       "    }\n",
       "</style>\n",
       "<table border=\"1\" class=\"dataframe\">\n",
       "  <thead>\n",
       "    <tr style=\"text-align: right;\">\n",
       "      <th></th>\n",
       "      <th>VMail Message</th>\n",
       "      <th>VMail Plan</th>\n",
       "    </tr>\n",
       "  </thead>\n",
       "  <tbody>\n",
       "    <tr>\n",
       "      <th>VMail Message</th>\n",
       "      <td>1.000000</td>\n",
       "      <td>0.956927</td>\n",
       "    </tr>\n",
       "    <tr>\n",
       "      <th>VMail Plan</th>\n",
       "      <td>0.956927</td>\n",
       "      <td>1.000000</td>\n",
       "    </tr>\n",
       "  </tbody>\n",
       "</table>\n",
       "</div>"
      ],
      "text/plain": [
       "               VMail Message  VMail Plan\n",
       "VMail Message       1.000000    0.956927\n",
       "VMail Plan          0.956927    1.000000"
      ]
     },
     "execution_count": 10,
     "metadata": {},
     "output_type": "execute_result"
    }
   ],
   "source": [
    "churn_raw[['VMail Message','VMail Plan']].corr(method='pearson', min_periods=1)\n",
    "#I consider to drop 'VMail Message' column also, \n",
    "#However I will reconsider this choice after developing models. "
   ]
  },
  {
   "cell_type": "code",
   "execution_count": 11,
   "metadata": {},
   "outputs": [
    {
     "data": {
      "text/html": [
       "<div>\n",
       "<style scoped>\n",
       "    .dataframe tbody tr th:only-of-type {\n",
       "        vertical-align: middle;\n",
       "    }\n",
       "\n",
       "    .dataframe tbody tr th {\n",
       "        vertical-align: top;\n",
       "    }\n",
       "\n",
       "    .dataframe thead th {\n",
       "        text-align: right;\n",
       "    }\n",
       "</style>\n",
       "<table border=\"1\" class=\"dataframe\">\n",
       "  <thead>\n",
       "    <tr style=\"text-align: right;\">\n",
       "      <th></th>\n",
       "      <th>Intl Mins</th>\n",
       "      <th>Intl Charge</th>\n",
       "    </tr>\n",
       "  </thead>\n",
       "  <tbody>\n",
       "    <tr>\n",
       "      <th>Intl Mins</th>\n",
       "      <td>1.000000</td>\n",
       "      <td>0.999993</td>\n",
       "    </tr>\n",
       "    <tr>\n",
       "      <th>Intl Charge</th>\n",
       "      <td>0.999993</td>\n",
       "      <td>1.000000</td>\n",
       "    </tr>\n",
       "  </tbody>\n",
       "</table>\n",
       "</div>"
      ],
      "text/plain": [
       "             Intl Mins  Intl Charge\n",
       "Intl Mins     1.000000     0.999993\n",
       "Intl Charge   0.999993     1.000000"
      ]
     },
     "execution_count": 11,
     "metadata": {},
     "output_type": "execute_result"
    }
   ],
   "source": [
    "churn_raw[['Intl Mins','Intl Charge']].corr(method='pearson', min_periods=1)\n",
    "#This means that 'Intl Mins' and 'Intl Charge' columns are perfectly correlated,\n",
    "#So we can drop 'Night Mins' column. "
   ]
  },
  {
   "cell_type": "code",
   "execution_count": 12,
   "metadata": {},
   "outputs": [
    {
     "data": {
      "text/html": [
       "<div>\n",
       "<style scoped>\n",
       "    .dataframe tbody tr th:only-of-type {\n",
       "        vertical-align: middle;\n",
       "    }\n",
       "\n",
       "    .dataframe tbody tr th {\n",
       "        vertical-align: top;\n",
       "    }\n",
       "\n",
       "    .dataframe thead th {\n",
       "        text-align: right;\n",
       "    }\n",
       "</style>\n",
       "<table border=\"1\" class=\"dataframe\">\n",
       "  <thead>\n",
       "    <tr style=\"text-align: right;\">\n",
       "      <th></th>\n",
       "      <th>Account Length</th>\n",
       "      <th>VMail Message</th>\n",
       "      <th>Day Mins</th>\n",
       "      <th>Eve Mins</th>\n",
       "      <th>Night Mins</th>\n",
       "      <th>Intl Mins</th>\n",
       "      <th>CustServ Calls</th>\n",
       "      <th>Churn</th>\n",
       "      <th>Int'l Plan</th>\n",
       "      <th>VMail Plan</th>\n",
       "      <th>Day Calls</th>\n",
       "      <th>Eve Calls</th>\n",
       "      <th>Night Calls</th>\n",
       "      <th>Intl Calls</th>\n",
       "    </tr>\n",
       "  </thead>\n",
       "  <tbody>\n",
       "    <tr>\n",
       "      <th>0</th>\n",
       "      <td>128</td>\n",
       "      <td>25</td>\n",
       "      <td>265.1</td>\n",
       "      <td>197.4</td>\n",
       "      <td>244.7</td>\n",
       "      <td>10.0</td>\n",
       "      <td>1</td>\n",
       "      <td>0</td>\n",
       "      <td>0</td>\n",
       "      <td>1</td>\n",
       "      <td>110</td>\n",
       "      <td>99</td>\n",
       "      <td>91</td>\n",
       "      <td>3</td>\n",
       "    </tr>\n",
       "    <tr>\n",
       "      <th>1</th>\n",
       "      <td>107</td>\n",
       "      <td>26</td>\n",
       "      <td>161.6</td>\n",
       "      <td>195.5</td>\n",
       "      <td>254.4</td>\n",
       "      <td>13.7</td>\n",
       "      <td>1</td>\n",
       "      <td>0</td>\n",
       "      <td>0</td>\n",
       "      <td>1</td>\n",
       "      <td>123</td>\n",
       "      <td>103</td>\n",
       "      <td>103</td>\n",
       "      <td>3</td>\n",
       "    </tr>\n",
       "    <tr>\n",
       "      <th>2</th>\n",
       "      <td>137</td>\n",
       "      <td>0</td>\n",
       "      <td>243.4</td>\n",
       "      <td>121.2</td>\n",
       "      <td>162.6</td>\n",
       "      <td>12.2</td>\n",
       "      <td>0</td>\n",
       "      <td>0</td>\n",
       "      <td>0</td>\n",
       "      <td>0</td>\n",
       "      <td>114</td>\n",
       "      <td>110</td>\n",
       "      <td>104</td>\n",
       "      <td>5</td>\n",
       "    </tr>\n",
       "    <tr>\n",
       "      <th>3</th>\n",
       "      <td>84</td>\n",
       "      <td>0</td>\n",
       "      <td>299.4</td>\n",
       "      <td>61.9</td>\n",
       "      <td>196.9</td>\n",
       "      <td>6.6</td>\n",
       "      <td>2</td>\n",
       "      <td>0</td>\n",
       "      <td>1</td>\n",
       "      <td>0</td>\n",
       "      <td>71</td>\n",
       "      <td>88</td>\n",
       "      <td>89</td>\n",
       "      <td>7</td>\n",
       "    </tr>\n",
       "    <tr>\n",
       "      <th>4</th>\n",
       "      <td>75</td>\n",
       "      <td>0</td>\n",
       "      <td>166.7</td>\n",
       "      <td>148.3</td>\n",
       "      <td>186.9</td>\n",
       "      <td>10.1</td>\n",
       "      <td>3</td>\n",
       "      <td>0</td>\n",
       "      <td>1</td>\n",
       "      <td>0</td>\n",
       "      <td>113</td>\n",
       "      <td>122</td>\n",
       "      <td>121</td>\n",
       "      <td>3</td>\n",
       "    </tr>\n",
       "  </tbody>\n",
       "</table>\n",
       "</div>"
      ],
      "text/plain": [
       "   Account Length  VMail Message  Day Mins  Eve Mins  Night Mins  Intl Mins  \\\n",
       "0             128             25     265.1     197.4       244.7       10.0   \n",
       "1             107             26     161.6     195.5       254.4       13.7   \n",
       "2             137              0     243.4     121.2       162.6       12.2   \n",
       "3              84              0     299.4      61.9       196.9        6.6   \n",
       "4              75              0     166.7     148.3       186.9       10.1   \n",
       "\n",
       "   CustServ Calls  Churn  Int'l Plan  VMail Plan  Day Calls  Eve Calls  \\\n",
       "0               1      0           0           1        110         99   \n",
       "1               1      0           0           1        123        103   \n",
       "2               0      0           0           0        114        110   \n",
       "3               2      0           1           0         71         88   \n",
       "4               3      0           1           0        113        122   \n",
       "\n",
       "   Night Calls  Intl Calls  \n",
       "0           91           3  \n",
       "1          103           3  \n",
       "2          104           5  \n",
       "3           89           7  \n",
       "4          121           3  "
      ]
     },
     "execution_count": 12,
     "metadata": {},
     "output_type": "execute_result"
    }
   ],
   "source": [
    "#Besides above mentioned columns, I will also drop 'State', 'Area Code' and 'Phone Number' columns, since those\n",
    "#do not make sense in the churn analysis. \n",
    "churn_clear = churn_raw.drop(['State','Area Code','Phone','Day Charge','Eve Charge',\n",
    "                              'Night Charge','Intl Charge'], axis=1)\n",
    "churn_clear.head()"
   ]
  },
  {
   "cell_type": "code",
   "execution_count": 13,
   "metadata": {},
   "outputs": [],
   "source": [
    "#train test split and x,y estimation\n",
    "y = churn_clear.Churn\n",
    "x = churn_clear.drop(\"Churn\",axis=1)\n",
    "x_train, x_test, y_train, y_test = train_test_split(x,y,test_size=0.25, random_state=42)"
   ]
  },
  {
   "cell_type": "code",
   "execution_count": 14,
   "metadata": {},
   "outputs": [
    {
     "data": {
      "text/plain": [
       "GradientBoostingClassifier(criterion='friedman_mse', init=None,\n",
       "              learning_rate=0.1, loss='deviance', max_depth=3,\n",
       "              max_features=None, max_leaf_nodes=None,\n",
       "              min_impurity_decrease=0.0, min_impurity_split=None,\n",
       "              min_samples_leaf=1, min_samples_split=2,\n",
       "              min_weight_fraction_leaf=0.0, n_estimators=100,\n",
       "              presort='auto', random_state=42, subsample=1.0, verbose=0,\n",
       "              warm_start=False)"
      ]
     },
     "execution_count": 14,
     "metadata": {},
     "output_type": "execute_result"
    }
   ],
   "source": [
    "#Modals with default parameters and unscaled data\n",
    "model_tree = DecisionTreeClassifier(random_state=42)\n",
    "model_logit = LogisticRegression(random_state=42)\n",
    "model_rf = RandomForestClassifier(random_state=42)\n",
    "model_gb = GradientBoostingClassifier(random_state=42)\n",
    "model_tree.fit(x_train,y_train)\n",
    "model_logit.fit(x_train,y_train)\n",
    "model_rf.fit(x_train,y_train)\n",
    "model_gb.fit(x_train,y_train)"
   ]
  },
  {
   "cell_type": "code",
   "execution_count": 15,
   "metadata": {},
   "outputs": [
    {
     "name": "stdout",
     "output_type": "stream",
     "text": [
      "100.0\n",
      "86.59463785514205\n",
      "99.15966386554622\n",
      "97.1188475390156\n",
      "90.40767386091127\n",
      "85.13189448441247\n",
      "93.04556354916068\n",
      "94.36450839328538\n"
     ]
    }
   ],
   "source": [
    "#Accuracy scores on train and test sets\n",
    "print(model_tree.score(x_train,y_train)*100)\n",
    "print(model_logit.score(x_train,y_train)*100)\n",
    "print(model_rf.score(x_train,y_train)*100)\n",
    "print(model_gb.score(x_train,y_train)*100)\n",
    "print(model_tree.score(x_test,y_test)*100)\n",
    "print(model_logit.score(x_test,y_test)*100)\n",
    "print(model_rf.score(x_test,y_test)*100)\n",
    "print(model_gb.score(x_test,y_test)*100)"
   ]
  },
  {
   "cell_type": "code",
   "execution_count": 16,
   "metadata": {},
   "outputs": [
    {
     "name": "stdout",
     "output_type": "stream",
     "text": [
      "0.09592326139088729\n",
      "0.1486810551558753\n",
      "0.06954436450839328\n",
      "0.05635491606714628\n"
     ]
    }
   ],
   "source": [
    "#MSE's for default parameter models\n",
    "tree_pred = model_tree.predict(x_test)\n",
    "logit_pred = model_logit.predict(x_test)\n",
    "rf_pred = model_rf.predict(x_test)\n",
    "gb_pred = model_gb.predict(x_test)\n",
    "print(mean_squared_error(y_test,tree_pred))\n",
    "print(mean_squared_error(y_test,logit_pred))\n",
    "print(mean_squared_error(y_test,rf_pred))\n",
    "print(mean_squared_error(y_test,gb_pred))"
   ]
  },
  {
   "cell_type": "code",
   "execution_count": 17,
   "metadata": {},
   "outputs": [
    {
     "name": "stdout",
     "output_type": "stream",
     "text": [
      "83.48547249647392\n",
      "55.67165021156559\n",
      "78.1179125528914\n",
      "84.16530324400564\n"
     ]
    }
   ],
   "source": [
    "#roc auc scores for default parameter models\n",
    "print(roc_auc_score(y_test,tree_pred)*100)\n",
    "print(roc_auc_score(y_test,logit_pred)*100)\n",
    "print(roc_auc_score(y_test,rf_pred)*100)\n",
    "print(roc_auc_score(y_test,gb_pred)*100)"
   ]
  },
  {
   "cell_type": "code",
   "execution_count": 18,
   "metadata": {},
   "outputs": [
    {
     "name": "stdout",
     "output_type": "stream",
     "text": [
      "73.6\n",
      "13.600000000000001\n",
      "56.8\n",
      "69.6\n"
     ]
    }
   ],
   "source": [
    "#recall scores for default parameter models\n",
    "print(recall_score(y_test,tree_pred)*100)\n",
    "print(recall_score(y_test,logit_pred)*100)\n",
    "print(recall_score(y_test,rf_pred)*100)\n",
    "print(recall_score(y_test,gb_pred)*100)"
   ]
  },
  {
   "cell_type": "code",
   "execution_count": 19,
   "metadata": {},
   "outputs": [
    {
     "name": "stdout",
     "output_type": "stream",
     "text": [
      "[0.90718563 0.91017964 0.93712575 0.91591592 0.91891892 0.91891892\n",
      " 0.8978979  0.9039039  0.91891892 0.93693694]\n",
      "[0.84431138 0.8742515  0.85928144 0.85585586 0.85585586 0.86186186\n",
      " 0.87387387 0.86786787 0.86186186 0.84984985]\n",
      "[0.94011976 0.94011976 0.9251497  0.92492492 0.94894895 0.93693694\n",
      " 0.95195195 0.93693694 0.92792793 0.94594595]\n",
      "[0.94610778 0.95209581 0.93712575 0.93993994 0.96696697 0.95195195\n",
      " 0.95195195 0.94594595 0.95195195 0.96396396]\n"
     ]
    }
   ],
   "source": [
    "#cv's for default parameter models\n",
    "print(cross_val_score(model_tree,x,y,cv=10))\n",
    "print(cross_val_score(model_logit,x,y,cv=10))\n",
    "print(cross_val_score(model_rf,x,y,cv=10))\n",
    "print(cross_val_score(model_gb,x,y,cv=10))"
   ]
  },
  {
   "cell_type": "code",
   "execution_count": 20,
   "metadata": {},
   "outputs": [
    {
     "name": "stdout",
     "output_type": "stream",
     "text": [
      "0.012216003471141244\n",
      "0.009391524301582868\n",
      "0.009090370277449748\n",
      "0.008892837866680336\n"
     ]
    }
   ],
   "source": [
    "print(cross_val_score(model_tree,x,y,cv=10).std())\n",
    "print(cross_val_score(model_logit,x,y,cv=10).std())\n",
    "print(cross_val_score(model_rf,x,y,cv=10).std())\n",
    "print(cross_val_score(model_gb,x,y,cv=10).std())"
   ]
  },
  {
   "cell_type": "markdown",
   "metadata": {},
   "source": [
    "### Decision Tree - Tuning"
   ]
  },
  {
   "cell_type": "code",
   "execution_count": 21,
   "metadata": {},
   "outputs": [
    {
     "name": "stdout",
     "output_type": "stream",
     "text": [
      "0.009279164268063585\n"
     ]
    }
   ],
   "source": [
    "#We can start by applying max depth for our Tree model\n",
    "model_tree_9 = DecisionTreeClassifier(max_depth = 9, random_state=42)\n",
    "model_tree_9.fit(x_train,y_train)\n",
    "model_tree_9.score(x_train,y_train)*100\n",
    "model_tree_9.score(x_test,y_test)*100\n",
    "print(cross_val_score(model_tree_9,x,y,cv=10).std())\n",
    "#std of cross val scores decreased slightly"
   ]
  },
  {
   "cell_type": "code",
   "execution_count": 22,
   "metadata": {},
   "outputs": [
    {
     "name": "stdout",
     "output_type": "stream",
     "text": [
      "84.80112834978843\n",
      "72.0\n"
     ]
    }
   ],
   "source": [
    "model_tree_9_pred = model_tree_9.predict(x_test)\n",
    "print(roc_auc_score(y_test,model_tree_9_pred)*100)\n",
    "print(recall_score(y_test,model_tree_9_pred)*100)\n",
    "#Roc auc has improved just slightly\n",
    "#We can stay with this model, \n",
    "#However we continue tuning to understand what we can achieve with the DTree"
   ]
  },
  {
   "cell_type": "code",
   "execution_count": 23,
   "metadata": {},
   "outputs": [
    {
     "name": "stdout",
     "output_type": "stream",
     "text": [
      "86.63465386154462\n",
      "87.29016786570743\n",
      "0.013324840300563873\n"
     ]
    }
   ],
   "source": [
    "#Decision Tree with min leaf values\n",
    "model_tree_110 = DecisionTreeClassifier(min_samples_leaf=110,random_state=42)\n",
    "model_tree_110.fit(x_train,y_train)\n",
    "print(model_tree_110.score(x_train,y_train)*100)\n",
    "print(model_tree_110.score(x_test,y_test)*100)\n",
    "print(cross_val_score(model_tree_110,x,y,cv=10).std())\n",
    "#more overfit in comparison with max_depth=9 model"
   ]
  },
  {
   "cell_type": "code",
   "execution_count": 24,
   "metadata": {},
   "outputs": [
    {
     "name": "stdout",
     "output_type": "stream",
     "text": [
      "73.08547249647391\n",
      "52.800000000000004\n"
     ]
    }
   ],
   "source": [
    "model_tree_110_pred = model_tree_110.predict(x_test)\n",
    "print(roc_auc_score(y_test,model_tree_110_pred)*100)\n",
    "print(recall_score(y_test,model_tree_110_pred)*100)\n",
    "#However we observe worse roc auc score"
   ]
  },
  {
   "cell_type": "code",
   "execution_count": 25,
   "metadata": {},
   "outputs": [
    {
     "name": "stdout",
     "output_type": "stream",
     "text": [
      "100.0\n",
      "91.12709832134293\n",
      "0.9210911510312709\n"
     ]
    }
   ],
   "source": [
    "#I will try to balance classes for the tree \n",
    "#Further, develop a model with defailt paramteres but with balanced classes\n",
    "model_tree_balanced=DecisionTreeClassifier(random_state=42, class_weight='balanced')\n",
    "model_tree_balanced.fit(x_train,y_train)\n",
    "print(model_tree_balanced.score(x_train,y_train)*100)\n",
    "print(model_tree_balanced.score(x_test,y_test)*100)\n",
    "print(cross_val_score(model_tree_balanced,x,y,cv=10).mean())\n",
    "#the model is overfitting if we compare cv scores with train score"
   ]
  },
  {
   "cell_type": "code",
   "execution_count": 26,
   "metadata": {
    "scrolled": false
   },
   "outputs": [
    {
     "name": "stdout",
     "output_type": "stream",
     "text": [
      "83.57912552891396\n",
      "72.8\n"
     ]
    }
   ],
   "source": [
    "model_tree_balanced_pred= model_tree_balanced.predict(x_test)\n",
    "print(roc_auc_score(y_test,model_tree_balanced_pred)*100)\n",
    "print(recall_score(y_test,model_tree_balanced_pred)*100)\n",
    "#roc auc score is no better than it was before "
   ]
  },
  {
   "cell_type": "code",
   "execution_count": 27,
   "metadata": {},
   "outputs": [],
   "source": [
    "#I will apply GridSearcCV to find best parameters\n",
    "max_depth_values = [k for k in range(5,21)]\n",
    "min_sample_values = [k for k in range(4,22,2)]\n",
    "min_samples_split_values= [k for k in range(6,16,2)]"
   ]
  },
  {
   "cell_type": "code",
   "execution_count": 29,
   "metadata": {},
   "outputs": [
    {
     "name": "stdout",
     "output_type": "stream",
     "text": [
      "{'max_depth': 6, 'min_samples_leaf': 4, 'min_samples_split': 6}\n"
     ]
    }
   ],
   "source": [
    "grid_search_dt_parameters = {\"max_depth\":max_depth_values, \n",
    "                             \"min_samples_leaf\":min_sample_values, \n",
    "                             \"min_samples_split\":min_samples_split_values}\n",
    "grid_search_dt=GridSearchCV(model_tree_balanced,grid_search_dt_parameters)\n",
    "grid_search_dt.fit(x_train, y_train)\n",
    "print(grid_search_dt.best_params_)"
   ]
  },
  {
   "cell_type": "code",
   "execution_count": 30,
   "metadata": {},
   "outputs": [
    {
     "name": "stdout",
     "output_type": "stream",
     "text": [
      "94.5578231292517\n",
      "93.64508393285371\n",
      "0.01871207468871563\n"
     ]
    }
   ],
   "source": [
    "model_tree_best = DecisionTreeClassifier(max_depth = 6, \n",
    "                                         min_samples_leaf = 4, \n",
    "                                         class_weight=\"balanced\",\n",
    "                                         min_samples_split=6, random_state=42)\n",
    "model_tree_best.fit(x_train,y_train)\n",
    "print(model_tree_best.score(x_train,y_train)*100)\n",
    "print(model_tree_best.score(x_test,y_test)*100)\n",
    "print(cross_val_score(model_tree_best,x,y,cv=10).std())"
   ]
  },
  {
   "cell_type": "code",
   "execution_count": 31,
   "metadata": {},
   "outputs": [
    {
     "name": "stdout",
     "output_type": "stream",
     "text": [
      "83.57912552891396\n",
      "72.8\n"
     ]
    }
   ],
   "source": [
    "model_tree_best_pred= model_tree_balanced.predict(x_test)\n",
    "print(roc_auc_score(y_test,model_tree_best_pred)*100)\n",
    "print(recall_score(y_test,model_tree_best_pred)*100)"
   ]
  },
  {
   "cell_type": "code",
   "execution_count": 32,
   "metadata": {},
   "outputs": [
    {
     "data": {
      "text/html": [
       "<div>\n",
       "<style scoped>\n",
       "    .dataframe tbody tr th:only-of-type {\n",
       "        vertical-align: middle;\n",
       "    }\n",
       "\n",
       "    .dataframe tbody tr th {\n",
       "        vertical-align: top;\n",
       "    }\n",
       "\n",
       "    .dataframe thead th {\n",
       "        text-align: right;\n",
       "    }\n",
       "</style>\n",
       "<table border=\"1\" class=\"dataframe\">\n",
       "  <thead>\n",
       "    <tr style=\"text-align: right;\">\n",
       "      <th></th>\n",
       "      <th>importance</th>\n",
       "    </tr>\n",
       "  </thead>\n",
       "  <tbody>\n",
       "    <tr>\n",
       "      <th>Account Length</th>\n",
       "      <td>0.000000</td>\n",
       "    </tr>\n",
       "    <tr>\n",
       "      <th>VMail Message</th>\n",
       "      <td>0.031823</td>\n",
       "    </tr>\n",
       "    <tr>\n",
       "      <th>Day Mins</th>\n",
       "      <td>0.256993</td>\n",
       "    </tr>\n",
       "    <tr>\n",
       "      <th>Eve Mins</th>\n",
       "      <td>0.101036</td>\n",
       "    </tr>\n",
       "    <tr>\n",
       "      <th>Night Mins</th>\n",
       "      <td>0.018045</td>\n",
       "    </tr>\n",
       "    <tr>\n",
       "      <th>Intl Mins</th>\n",
       "      <td>0.042493</td>\n",
       "    </tr>\n",
       "    <tr>\n",
       "      <th>CustServ Calls</th>\n",
       "      <td>0.230034</td>\n",
       "    </tr>\n",
       "    <tr>\n",
       "      <th>Int'l Plan</th>\n",
       "      <td>0.227074</td>\n",
       "    </tr>\n",
       "    <tr>\n",
       "      <th>VMail Plan</th>\n",
       "      <td>0.006420</td>\n",
       "    </tr>\n",
       "    <tr>\n",
       "      <th>Day Calls</th>\n",
       "      <td>0.000000</td>\n",
       "    </tr>\n",
       "    <tr>\n",
       "      <th>Eve Calls</th>\n",
       "      <td>0.000000</td>\n",
       "    </tr>\n",
       "    <tr>\n",
       "      <th>Night Calls</th>\n",
       "      <td>0.005264</td>\n",
       "    </tr>\n",
       "    <tr>\n",
       "      <th>Intl Calls</th>\n",
       "      <td>0.080818</td>\n",
       "    </tr>\n",
       "  </tbody>\n",
       "</table>\n",
       "</div>"
      ],
      "text/plain": [
       "                importance\n",
       "Account Length    0.000000\n",
       "VMail Message     0.031823\n",
       "Day Mins          0.256993\n",
       "Eve Mins          0.101036\n",
       "Night Mins        0.018045\n",
       "Intl Mins         0.042493\n",
       "CustServ Calls    0.230034\n",
       "Int'l Plan        0.227074\n",
       "VMail Plan        0.006420\n",
       "Day Calls         0.000000\n",
       "Eve Calls         0.000000\n",
       "Night Calls       0.005264\n",
       "Intl Calls        0.080818"
      ]
     },
     "execution_count": 32,
     "metadata": {},
     "output_type": "execute_result"
    }
   ],
   "source": [
    "importances = model_tree_best.feature_importances_\n",
    "features = pd.DataFrame(data = importances, columns = [\"importance\"], \n",
    "                        index = x.columns)\n",
    "features"
   ]
  },
  {
   "cell_type": "code",
   "execution_count": 33,
   "metadata": {},
   "outputs": [],
   "source": [
    "selected_features = features[features.importance>0.15]\n",
    "selected_features_1 = selected_features.index\n",
    "x_train_new = x_train[selected_features_1]\n",
    "x_test_new = x_test[selected_features_1]"
   ]
  },
  {
   "cell_type": "code",
   "execution_count": 34,
   "metadata": {},
   "outputs": [
    {
     "name": "stdout",
     "output_type": "stream",
     "text": [
      "86.47458983593438\n",
      "82.85371702637889\n"
     ]
    }
   ],
   "source": [
    "model_tree_best.fit(x_train_new, y_train)\n",
    "print(model_tree_best.score(x_train_new, y_train)*100)\n",
    "print(model_tree_best.score(x_test_new, y_test)*100)"
   ]
  },
  {
   "cell_type": "code",
   "execution_count": 35,
   "metadata": {},
   "outputs": [
    {
     "name": "stdout",
     "output_type": "stream",
     "text": [
      "77.724682651622\n",
      "70.39999999999999\n"
     ]
    }
   ],
   "source": [
    "model_tree_best_imp_pred= model_tree_best.predict(x_test_new)\n",
    "print(roc_auc_score(y_test,model_tree_best_imp_pred)*100)\n",
    "print(recall_score(y_test,model_tree_best_imp_pred)*100)"
   ]
  },
  {
   "cell_type": "markdown",
   "metadata": {},
   "source": [
    "From the models that I observed using DT, roc auc score was the best for the model with max_depth=9 wiht other criteria default. "
   ]
  },
  {
   "cell_type": "markdown",
   "metadata": {},
   "source": [
    "### Logistic Regression - Tuning "
   ]
  },
  {
   "cell_type": "code",
   "execution_count": 36,
   "metadata": {},
   "outputs": [
    {
     "name": "stdout",
     "output_type": "stream",
     "text": [
      "[[693  16]\n",
      " [108  17]]\n"
     ]
    }
   ],
   "source": [
    "confusion_m_logit = confusion_matrix(y_test,logit_pred)\n",
    "print(confusion_m_logit)\n",
    "#The result is telling us that we have 693+16 correct predictions,\n",
    "#107+18 incorrect predictions with the initial model."
   ]
  },
  {
   "cell_type": "code",
   "execution_count": 37,
   "metadata": {},
   "outputs": [
    {
     "name": "stdout",
     "output_type": "stream",
     "text": [
      "86.47458983593438\n",
      "85.25179856115108\n"
     ]
    }
   ],
   "source": [
    "#I will try a logit model with specifying C\n",
    "n=np.arange(0,1)\n",
    "r=pow(float(10),n)\n",
    "for C in r:\n",
    "    model_logit_C=LogisticRegression(C=C,penalty=\"l2\")\n",
    "    model_logit_C.fit(x_train,y_train)\n",
    "    print(model_logit_C.score(x_train,y_train)*100)\n",
    "    print(model_logit_C.score(x_test,y_test)*100)"
   ]
  },
  {
   "cell_type": "code",
   "execution_count": 38,
   "metadata": {},
   "outputs": [
    {
     "name": "stdout",
     "output_type": "stream",
     "text": [
      "0.1474820143884892\n",
      "56.07165021156558\n",
      "14.399999999999999\n"
     ]
    }
   ],
   "source": [
    "logit_C_pred = model_logit_C.predict(x_test)\n",
    "print(mean_squared_error(y_test,logit_C_pred))\n",
    "print(roc_auc_score(y_test,logit_C_pred)*100)\n",
    "print(recall_score(y_test,logit_C_pred)*100)"
   ]
  },
  {
   "cell_type": "markdown",
   "metadata": {},
   "source": [
    "#### Logistic Regression model with normalized data "
   ]
  },
  {
   "cell_type": "code",
   "execution_count": 39,
   "metadata": {},
   "outputs": [
    {
     "data": {
      "text/plain": [
       "StandardScaler(copy=True, with_mean=True, with_std=True)"
      ]
     },
     "execution_count": 39,
     "metadata": {},
     "output_type": "execute_result"
    }
   ],
   "source": [
    "#Preprocessing is imported, so I will standardize with preprocessing\n",
    "scaler = preprocessing.StandardScaler().fit(x_train)\n",
    "scaler"
   ]
  },
  {
   "cell_type": "code",
   "execution_count": 40,
   "metadata": {},
   "outputs": [
    {
     "name": "stdout",
     "output_type": "stream",
     "text": [
      "86.39455782312925\n"
     ]
    }
   ],
   "source": [
    "steps = [('scaler', StandardScaler()),\n",
    "        ('logit', LogisticRegression())]\n",
    "pipeline = Pipeline(steps)\n",
    "model_logit_s = pipeline.fit(x_train, y_train)\n",
    "print(model_logit_s.score(x_train,y_train)*100)"
   ]
  },
  {
   "cell_type": "code",
   "execution_count": 41,
   "metadata": {},
   "outputs": [
    {
     "name": "stdout",
     "output_type": "stream",
     "text": [
      "58.801128349788435\n",
      "20.0\n",
      "[[692  17]\n",
      " [100  25]]\n"
     ]
    }
   ],
   "source": [
    "model_logit_s_pred= model_logit_s.predict(x_test)\n",
    "print(roc_auc_score(y_test, model_logit_s_pred)*100)\n",
    "print(recall_score(y_test, model_logit_s_pred)*100)\n",
    "confusion_m_logit_s = confusion_matrix(y_test,model_logit_s_pred)\n",
    "print(confusion_m_logit_s)\n",
    "#To verify that results are the same\n",
    "#in comparison with default parameters unscaled logit model, scaled logit model is better"
   ]
  },
  {
   "cell_type": "markdown",
   "metadata": {},
   "source": [
    "### Random Forest - Tuning"
   ]
  },
  {
   "cell_type": "code",
   "execution_count": 42,
   "metadata": {},
   "outputs": [
    {
     "name": "stdout",
     "output_type": "stream",
     "text": [
      "94.07763105242097\n",
      "93.28537170263789\n",
      "0.016717154887464395\n"
     ]
    }
   ],
   "source": [
    "#Firstly we can try with best parameters from DT\n",
    "model_rf_good = RandomForestClassifier(max_depth = 6, min_samples_leaf = 4,\n",
    "                                       class_weight=\"balanced\",min_samples_split=6, \n",
    "                                       random_state=42)\n",
    "model_rf_good.fit(x_train, y_train)\n",
    "print(model_rf_good.score(x_train,y_train)*100)\n",
    "print(model_rf_good.score(x_test,y_test)*100)\n",
    "print(cross_val_score(model_rf_good,x,y,cv=10).std())"
   ]
  },
  {
   "cell_type": "code",
   "execution_count": 43,
   "metadata": {},
   "outputs": [
    {
     "name": "stdout",
     "output_type": "stream",
     "text": [
      "89.13173483779971\n",
      "83.2\n",
      "0.0671462829736211\n"
     ]
    }
   ],
   "source": [
    "rf_good_pred = model_rf_good.predict(x_test)\n",
    "print(roc_auc_score(y_test,rf_good_pred)*100)\n",
    "print(recall_score(y_test,rf_good_pred)*100)\n",
    "print(mean_squared_error(y_test,rf_good_pred))"
   ]
  },
  {
   "cell_type": "code",
   "execution_count": 44,
   "metadata": {},
   "outputs": [],
   "source": [
    "#I will apply gridsearch for this one as well.\n",
    "param_grid_values = {'max_depth': [i for i in range(2,19)], \n",
    "                     'min_samples_leaf': [3,4,6,7,9,10],\n",
    "                     'min_samples_split': [z for z in range(4,21,2)]}"
   ]
  },
  {
   "cell_type": "code",
   "execution_count": 45,
   "metadata": {},
   "outputs": [
    {
     "data": {
      "text/plain": [
       "GridSearchCV(cv=2, error_score='raise',\n",
       "       estimator=RandomForestClassifier(bootstrap=True, class_weight=None, criterion='gini',\n",
       "            max_depth=None, max_features='auto', max_leaf_nodes=None,\n",
       "            min_impurity_decrease=0.0, min_impurity_split=None,\n",
       "            min_samples_leaf=1, min_samples_split=2,\n",
       "            min_weight_fraction_leaf=0.0, n_estimators=10, n_jobs=1,\n",
       "            oob_score=False, random_state=42, verbose=0, warm_start=False),\n",
       "       fit_params=None, iid=True, n_jobs=2,\n",
       "       param_grid={'max_depth': [2, 3, 4, 5, 6, 7, 8, 9, 10, 11, 12, 13, 14, 15, 16, 17, 18], 'min_samples_leaf': [3, 4, 6, 7, 9, 10], 'min_samples_split': [4, 6, 8, 10, 12, 14, 16, 18, 20]},\n",
       "       pre_dispatch='2*n_jobs', refit=True, return_train_score='warn',\n",
       "       scoring='roc_auc', verbose=0)"
      ]
     },
     "execution_count": 45,
     "metadata": {},
     "output_type": "execute_result"
    }
   ],
   "source": [
    "grid_search_rf = GridSearchCV(estimator = model_rf,\n",
    "                              param_grid = param_grid_values, \n",
    "                              scoring='roc_auc',cv=2,n_jobs=2)\n",
    "grid_search_rf.fit(x_train,y_train)"
   ]
  },
  {
   "cell_type": "code",
   "execution_count": 46,
   "metadata": {},
   "outputs": [
    {
     "data": {
      "text/plain": [
       "{'max_depth': 10, 'min_samples_leaf': 6, 'min_samples_split': 20}"
      ]
     },
     "execution_count": 46,
     "metadata": {},
     "output_type": "execute_result"
    }
   ],
   "source": [
    "grid_search_rf.best_params_"
   ]
  },
  {
   "cell_type": "code",
   "execution_count": 47,
   "metadata": {},
   "outputs": [
    {
     "name": "stdout",
     "output_type": "stream",
     "text": [
      "95.03801520608243\n",
      "92.80575539568345\n"
     ]
    }
   ],
   "source": [
    "model_rf_best_params = RandomForestClassifier(max_depth = 10, min_samples_leaf = 6, \n",
    "                                              min_samples_split = 20, random_state=42)\n",
    "model_rf_best_params.fit(x_train,y_train)\n",
    "print(model_rf_best_params.score(x_train,y_train)*100)\n",
    "print(model_rf_best_params.score(x_test,y_test)*100)"
   ]
  },
  {
   "cell_type": "code",
   "execution_count": 48,
   "metadata": {},
   "outputs": [
    {
     "name": "stdout",
     "output_type": "stream",
     "text": [
      "78.6358251057828\n",
      "58.4\n",
      "0.07194244604316546\n"
     ]
    }
   ],
   "source": [
    "model_rf_best_params_pred = model_rf_best_params.predict(x_test)\n",
    "print(roc_auc_score(y_test,model_rf_best_params_pred)*100)\n",
    "print(recall_score(y_test,model_rf_best_params_pred)*100)\n",
    "print(mean_squared_error(y_test,model_rf_best_params_pred))"
   ]
  },
  {
   "cell_type": "code",
   "execution_count": 49,
   "metadata": {},
   "outputs": [
    {
     "name": "stdout",
     "output_type": "stream",
     "text": [
      "[[701   8]\n",
      " [ 52  73]]\n"
     ]
    }
   ],
   "source": [
    "confusion_m_rf_best_params = confusion_matrix(y_test,model_rf_best_params_pred)\n",
    "print(confusion_m_rf_best_params)"
   ]
  },
  {
   "cell_type": "markdown",
   "metadata": {},
   "source": [
    "### Gradient Boosting - Tuning"
   ]
  },
  {
   "cell_type": "code",
   "execution_count": 50,
   "metadata": {},
   "outputs": [],
   "source": [
    "gb_grid_params = {'learning_rate': [0.1,0.4,0.75],\n",
    "                  'max_depth': [d for d in range(6,16,3)],\n",
    "                  'min_samples_leaf': [d for d in range(5,61,15)],\n",
    "                  'max_features': [0.01,0.03,0.75,0.15]}"
   ]
  },
  {
   "cell_type": "code",
   "execution_count": 51,
   "metadata": {},
   "outputs": [],
   "source": [
    "model_gb_1 = GradientBoostingClassifier(random_state=42)"
   ]
  },
  {
   "cell_type": "code",
   "execution_count": 52,
   "metadata": {},
   "outputs": [
    {
     "data": {
      "text/plain": [
       "{'learning_rate': 0.1,\n",
       " 'max_depth': 6,\n",
       " 'max_features': 0.75,\n",
       " 'min_samples_leaf': 20}"
      ]
     },
     "execution_count": 52,
     "metadata": {},
     "output_type": "execute_result"
    }
   ],
   "source": [
    "grid_search_gb =GridSearchCV(estimator=model_gb_1, param_grid = gb_grid_params,\n",
    "                             cv=4, n_jobs=2)\n",
    "grid_search_gb.fit(x_train,y_train)\n",
    "grid_search_gb.best_params_"
   ]
  },
  {
   "cell_type": "code",
   "execution_count": 53,
   "metadata": {},
   "outputs": [
    {
     "name": "stdout",
     "output_type": "stream",
     "text": [
      "98.75950380152061\n",
      "95.20383693045564\n"
     ]
    }
   ],
   "source": [
    "model_gb_best_params = GradientBoostingClassifier(learning_rate=0.1, \n",
    "                                                  max_depth=6, max_features=0.75,\n",
    "                                                  min_samples_leaf=20, random_state=42)\n",
    "model_gb_best_params.fit(x_train,y_train)\n",
    "print(model_gb_best_params.score(x_train,y_train)*100)\n",
    "print(model_gb_best_params.score(x_test,y_test)*100)"
   ]
  },
  {
   "cell_type": "code",
   "execution_count": 54,
   "metadata": {},
   "outputs": [
    {
     "name": "stdout",
     "output_type": "stream",
     "text": [
      "85.64739069111424\n",
      "72.0\n",
      "0.047961630695443645\n",
      "0.012509571451399519\n",
      "[[704   5]\n",
      " [ 35  90]]\n"
     ]
    }
   ],
   "source": [
    "model_gb_best_params_pred = model_gb_best_params.predict(x_test)\n",
    "print(roc_auc_score(y_test,model_gb_best_params_pred)*100)\n",
    "print(recall_score(y_test,model_gb_best_params_pred)*100)\n",
    "print(mean_squared_error(y_test,model_gb_best_params_pred))\n",
    "print(cross_val_score(model_gb_best_params,x,y,cv=10).std())\n",
    "confusion_m_gb_best_params = confusion_matrix(y_test,model_gb_best_params_pred)\n",
    "print(confusion_m_gb_best_params)\n",
    "#we can see that roc auc score has improved in comparison with default parameters"
   ]
  },
  {
   "cell_type": "markdown",
   "metadata": {},
   "source": [
    "## Problem 2 - Predicting CLV - Regression Problem"
   ]
  },
  {
   "cell_type": "markdown",
   "metadata": {},
   "source": [
    "Use the file (provided on GitHub) to predict Customer Lifetime Value. Again, data should be transformed whenever necessarily. Make sure to tune models to achieve best possible result for each according to carefully selected evaluation metric."
   ]
  },
  {
   "cell_type": "code",
   "execution_count": 55,
   "metadata": {},
   "outputs": [],
   "source": [
    "clv_data = pd.read_csv(\"https://github.com/HrantDavtyan/Business_Analytics/blob/master/CLV.csv?raw=true\")"
   ]
  },
  {
   "cell_type": "code",
   "execution_count": 56,
   "metadata": {},
   "outputs": [
    {
     "data": {
      "text/html": [
       "<div>\n",
       "<style scoped>\n",
       "    .dataframe tbody tr th:only-of-type {\n",
       "        vertical-align: middle;\n",
       "    }\n",
       "\n",
       "    .dataframe tbody tr th {\n",
       "        vertical-align: top;\n",
       "    }\n",
       "\n",
       "    .dataframe thead th {\n",
       "        text-align: right;\n",
       "    }\n",
       "</style>\n",
       "<table border=\"1\" class=\"dataframe\">\n",
       "  <thead>\n",
       "    <tr style=\"text-align: right;\">\n",
       "      <th></th>\n",
       "      <th>Customer</th>\n",
       "      <th>State</th>\n",
       "      <th>Customer Lifetime Value</th>\n",
       "      <th>Response</th>\n",
       "      <th>Coverage</th>\n",
       "      <th>Education</th>\n",
       "      <th>Effective To Date</th>\n",
       "      <th>EmploymentStatus</th>\n",
       "      <th>Gender</th>\n",
       "      <th>Income</th>\n",
       "      <th>...</th>\n",
       "      <th>Months Since Policy Inception</th>\n",
       "      <th>Number of Open Complaints</th>\n",
       "      <th>Number of Policies</th>\n",
       "      <th>Policy Type</th>\n",
       "      <th>Policy</th>\n",
       "      <th>Renew Offer Type</th>\n",
       "      <th>Sales Channel</th>\n",
       "      <th>Total Claim Amount</th>\n",
       "      <th>Vehicle Class</th>\n",
       "      <th>Vehicle Size</th>\n",
       "    </tr>\n",
       "  </thead>\n",
       "  <tbody>\n",
       "    <tr>\n",
       "      <th>0</th>\n",
       "      <td>BU79786</td>\n",
       "      <td>Washington</td>\n",
       "      <td>2763.519279</td>\n",
       "      <td>No</td>\n",
       "      <td>Basic</td>\n",
       "      <td>Bachelor</td>\n",
       "      <td>2/24/11</td>\n",
       "      <td>Employed</td>\n",
       "      <td>F</td>\n",
       "      <td>56274</td>\n",
       "      <td>...</td>\n",
       "      <td>5</td>\n",
       "      <td>0</td>\n",
       "      <td>1</td>\n",
       "      <td>Corporate Auto</td>\n",
       "      <td>Corporate L3</td>\n",
       "      <td>Offer1</td>\n",
       "      <td>Agent</td>\n",
       "      <td>384.811147</td>\n",
       "      <td>Two-Door Car</td>\n",
       "      <td>Medsize</td>\n",
       "    </tr>\n",
       "    <tr>\n",
       "      <th>1</th>\n",
       "      <td>QZ44356</td>\n",
       "      <td>Arizona</td>\n",
       "      <td>6979.535903</td>\n",
       "      <td>No</td>\n",
       "      <td>Extended</td>\n",
       "      <td>Bachelor</td>\n",
       "      <td>1/31/11</td>\n",
       "      <td>Unemployed</td>\n",
       "      <td>F</td>\n",
       "      <td>0</td>\n",
       "      <td>...</td>\n",
       "      <td>42</td>\n",
       "      <td>0</td>\n",
       "      <td>8</td>\n",
       "      <td>Personal Auto</td>\n",
       "      <td>Personal L3</td>\n",
       "      <td>Offer3</td>\n",
       "      <td>Agent</td>\n",
       "      <td>1131.464935</td>\n",
       "      <td>Four-Door Car</td>\n",
       "      <td>Medsize</td>\n",
       "    </tr>\n",
       "    <tr>\n",
       "      <th>2</th>\n",
       "      <td>AI49188</td>\n",
       "      <td>Nevada</td>\n",
       "      <td>12887.431650</td>\n",
       "      <td>No</td>\n",
       "      <td>Premium</td>\n",
       "      <td>Bachelor</td>\n",
       "      <td>2/19/11</td>\n",
       "      <td>Employed</td>\n",
       "      <td>F</td>\n",
       "      <td>48767</td>\n",
       "      <td>...</td>\n",
       "      <td>38</td>\n",
       "      <td>0</td>\n",
       "      <td>2</td>\n",
       "      <td>Personal Auto</td>\n",
       "      <td>Personal L3</td>\n",
       "      <td>Offer1</td>\n",
       "      <td>Agent</td>\n",
       "      <td>566.472247</td>\n",
       "      <td>Two-Door Car</td>\n",
       "      <td>Medsize</td>\n",
       "    </tr>\n",
       "  </tbody>\n",
       "</table>\n",
       "<p>3 rows × 24 columns</p>\n",
       "</div>"
      ],
      "text/plain": [
       "  Customer       State  Customer Lifetime Value Response  Coverage Education  \\\n",
       "0  BU79786  Washington              2763.519279       No     Basic  Bachelor   \n",
       "1  QZ44356     Arizona              6979.535903       No  Extended  Bachelor   \n",
       "2  AI49188      Nevada             12887.431650       No   Premium  Bachelor   \n",
       "\n",
       "  Effective To Date EmploymentStatus Gender  Income     ...       \\\n",
       "0           2/24/11         Employed      F   56274     ...        \n",
       "1           1/31/11       Unemployed      F       0     ...        \n",
       "2           2/19/11         Employed      F   48767     ...        \n",
       "\n",
       "  Months Since Policy Inception Number of Open Complaints  Number of Policies  \\\n",
       "0                             5                         0                   1   \n",
       "1                            42                         0                   8   \n",
       "2                            38                         0                   2   \n",
       "\n",
       "      Policy Type        Policy  Renew Offer Type  Sales Channel  \\\n",
       "0  Corporate Auto  Corporate L3            Offer1          Agent   \n",
       "1   Personal Auto   Personal L3            Offer3          Agent   \n",
       "2   Personal Auto   Personal L3            Offer1          Agent   \n",
       "\n",
       "  Total Claim Amount  Vehicle Class Vehicle Size  \n",
       "0         384.811147   Two-Door Car      Medsize  \n",
       "1        1131.464935  Four-Door Car      Medsize  \n",
       "2         566.472247   Two-Door Car      Medsize  \n",
       "\n",
       "[3 rows x 24 columns]"
      ]
     },
     "execution_count": 56,
     "metadata": {},
     "output_type": "execute_result"
    }
   ],
   "source": [
    "clv_data.head(3)"
   ]
  },
  {
   "cell_type": "code",
   "execution_count": 57,
   "metadata": {},
   "outputs": [
    {
     "name": "stdout",
     "output_type": "stream",
     "text": [
      "<class 'pandas.core.frame.DataFrame'>\n",
      "RangeIndex: 9134 entries, 0 to 9133\n",
      "Data columns (total 24 columns):\n",
      "Customer                         9134 non-null object\n",
      "State                            9134 non-null object\n",
      "Customer Lifetime Value          9134 non-null float64\n",
      "Response                         9134 non-null object\n",
      "Coverage                         9134 non-null object\n",
      "Education                        9134 non-null object\n",
      "Effective To Date                9134 non-null object\n",
      "EmploymentStatus                 9134 non-null object\n",
      "Gender                           9134 non-null object\n",
      "Income                           9134 non-null int64\n",
      "Location Code                    9134 non-null object\n",
      "Marital Status                   9134 non-null object\n",
      "Monthly Premium Auto             9134 non-null int64\n",
      "Months Since Last Claim          9134 non-null int64\n",
      "Months Since Policy Inception    9134 non-null int64\n",
      "Number of Open Complaints        9134 non-null int64\n",
      "Number of Policies               9134 non-null int64\n",
      "Policy Type                      9134 non-null object\n",
      "Policy                           9134 non-null object\n",
      "Renew Offer Type                 9134 non-null object\n",
      "Sales Channel                    9134 non-null object\n",
      "Total Claim Amount               9134 non-null float64\n",
      "Vehicle Class                    9134 non-null object\n",
      "Vehicle Size                     9134 non-null object\n",
      "dtypes: float64(2), int64(6), object(16)\n",
      "memory usage: 1.7+ MB\n"
     ]
    }
   ],
   "source": [
    "clv_data.info()"
   ]
  },
  {
   "cell_type": "code",
   "execution_count": 58,
   "metadata": {},
   "outputs": [],
   "source": [
    "#We have to encode categories\n",
    "#encoding categories for ordered columns\n",
    "clv_data.Response = clv_data.Response.astype(\"category\").cat.reorder_categories([\"No\",\"Yes\"]).cat.codes\n",
    "clv_data.Coverage = clv_data.Coverage.astype(\"category\").cat.reorder_categories(['Basic', 'Extended', 'Premium']).cat.codes\n",
    "clv_data.Gender = clv_data.Gender.astype('category').cat.reorder_categories(['F','M']).cat.codes\n",
    "clv_data[\"Renew Offer Type\"] = clv_data[\"Renew Offer Type\"].astype('category').cat.reorder_categories(['Offer1', 'Offer2', 'Offer3', 'Offer4']).cat.codes\n",
    "clv_data[\"Vehicle Size\"] = clv_data[\"Vehicle Size\"].astype('category').cat.reorder_categories(['Small', 'Medsize', 'Large']).cat.codes"
   ]
  },
  {
   "cell_type": "code",
   "execution_count": 59,
   "metadata": {},
   "outputs": [],
   "source": [
    "#for unordered columns\n",
    "education = pd.get_dummies(clv_data.Education)\n",
    "Employment_Status = pd.get_dummies(clv_data.EmploymentStatus)\n",
    "Marital_Status = pd.get_dummies(clv_data['Marital Status'])\n",
    "Policy_Type = pd.get_dummies(clv_data['Policy Type'])\n",
    "policy = pd.get_dummies(clv_data['Policy'])\n",
    "Sales_Channel = pd.get_dummies(clv_data['Sales Channel'])\n",
    "Vehicle_Class = pd.get_dummies(clv_data['Vehicle Class'])   "
   ]
  },
  {
   "cell_type": "code",
   "execution_count": 60,
   "metadata": {},
   "outputs": [],
   "source": [
    "#I am sure that \"Effective to date\" column is important in estimating clv, \n",
    "#However I don't know how to deal with it.\n",
    "#One way would have been to calculate number of days, however we do not know the initial date.\n",
    "#So, I will leave it for further analysis\n",
    "clv_data = clv_data.drop(['Effective To Date','Education','EmploymentStatus',\n",
    "                          \"Marital Status\",\"Policy Type\",'Policy','Sales Channel',\n",
    "                          'Vehicle Class','Customer','State','Location Code'],axis=1)\n",
    "#Dropping\n",
    "clv_data = clv_data.join(education)\n",
    "clv_data = clv_data.join(Employment_Status)\n",
    "clv_data = clv_data.join(Marital_Status)\n",
    "clv_data = clv_data.join(Policy_Type)\n",
    "clv_data = clv_data.join(policy)\n",
    "clv_data = clv_data.join(Sales_Channel)\n",
    "clv_data = clv_data.join(Vehicle_Class)"
   ]
  },
  {
   "cell_type": "code",
   "execution_count": 61,
   "metadata": {},
   "outputs": [
    {
     "data": {
      "text/html": [
       "<div>\n",
       "<style scoped>\n",
       "    .dataframe tbody tr th:only-of-type {\n",
       "        vertical-align: middle;\n",
       "    }\n",
       "\n",
       "    .dataframe tbody tr th {\n",
       "        vertical-align: top;\n",
       "    }\n",
       "\n",
       "    .dataframe thead th {\n",
       "        text-align: right;\n",
       "    }\n",
       "</style>\n",
       "<table border=\"1\" class=\"dataframe\">\n",
       "  <thead>\n",
       "    <tr style=\"text-align: right;\">\n",
       "      <th></th>\n",
       "      <th>Customer Lifetime Value</th>\n",
       "      <th>Response</th>\n",
       "      <th>Coverage</th>\n",
       "      <th>Gender</th>\n",
       "      <th>Income</th>\n",
       "      <th>Monthly Premium Auto</th>\n",
       "      <th>Months Since Last Claim</th>\n",
       "      <th>Months Since Policy Inception</th>\n",
       "      <th>Number of Open Complaints</th>\n",
       "      <th>Number of Policies</th>\n",
       "      <th>...</th>\n",
       "      <th>Agent</th>\n",
       "      <th>Branch</th>\n",
       "      <th>Call Center</th>\n",
       "      <th>Web</th>\n",
       "      <th>Four-Door Car</th>\n",
       "      <th>Luxury Car</th>\n",
       "      <th>Luxury SUV</th>\n",
       "      <th>SUV</th>\n",
       "      <th>Sports Car</th>\n",
       "      <th>Two-Door Car</th>\n",
       "    </tr>\n",
       "  </thead>\n",
       "  <tbody>\n",
       "    <tr>\n",
       "      <th>0</th>\n",
       "      <td>2763.519279</td>\n",
       "      <td>0</td>\n",
       "      <td>0</td>\n",
       "      <td>0</td>\n",
       "      <td>56274</td>\n",
       "      <td>69</td>\n",
       "      <td>32</td>\n",
       "      <td>5</td>\n",
       "      <td>0</td>\n",
       "      <td>1</td>\n",
       "      <td>...</td>\n",
       "      <td>1</td>\n",
       "      <td>0</td>\n",
       "      <td>0</td>\n",
       "      <td>0</td>\n",
       "      <td>0</td>\n",
       "      <td>0</td>\n",
       "      <td>0</td>\n",
       "      <td>0</td>\n",
       "      <td>0</td>\n",
       "      <td>1</td>\n",
       "    </tr>\n",
       "    <tr>\n",
       "      <th>1</th>\n",
       "      <td>6979.535903</td>\n",
       "      <td>0</td>\n",
       "      <td>1</td>\n",
       "      <td>0</td>\n",
       "      <td>0</td>\n",
       "      <td>94</td>\n",
       "      <td>13</td>\n",
       "      <td>42</td>\n",
       "      <td>0</td>\n",
       "      <td>8</td>\n",
       "      <td>...</td>\n",
       "      <td>1</td>\n",
       "      <td>0</td>\n",
       "      <td>0</td>\n",
       "      <td>0</td>\n",
       "      <td>1</td>\n",
       "      <td>0</td>\n",
       "      <td>0</td>\n",
       "      <td>0</td>\n",
       "      <td>0</td>\n",
       "      <td>0</td>\n",
       "    </tr>\n",
       "    <tr>\n",
       "      <th>2</th>\n",
       "      <td>12887.431650</td>\n",
       "      <td>0</td>\n",
       "      <td>2</td>\n",
       "      <td>0</td>\n",
       "      <td>48767</td>\n",
       "      <td>108</td>\n",
       "      <td>18</td>\n",
       "      <td>38</td>\n",
       "      <td>0</td>\n",
       "      <td>2</td>\n",
       "      <td>...</td>\n",
       "      <td>1</td>\n",
       "      <td>0</td>\n",
       "      <td>0</td>\n",
       "      <td>0</td>\n",
       "      <td>0</td>\n",
       "      <td>0</td>\n",
       "      <td>0</td>\n",
       "      <td>0</td>\n",
       "      <td>0</td>\n",
       "      <td>1</td>\n",
       "    </tr>\n",
       "  </tbody>\n",
       "</table>\n",
       "<p>3 rows × 48 columns</p>\n",
       "</div>"
      ],
      "text/plain": [
       "   Customer Lifetime Value  Response  Coverage  Gender  Income  \\\n",
       "0              2763.519279         0         0       0   56274   \n",
       "1              6979.535903         0         1       0       0   \n",
       "2             12887.431650         0         2       0   48767   \n",
       "\n",
       "   Monthly Premium Auto  Months Since Last Claim  \\\n",
       "0                    69                       32   \n",
       "1                    94                       13   \n",
       "2                   108                       18   \n",
       "\n",
       "   Months Since Policy Inception  Number of Open Complaints  \\\n",
       "0                              5                          0   \n",
       "1                             42                          0   \n",
       "2                             38                          0   \n",
       "\n",
       "   Number of Policies      ...       Agent  Branch  Call Center  Web  \\\n",
       "0                   1      ...           1       0            0    0   \n",
       "1                   8      ...           1       0            0    0   \n",
       "2                   2      ...           1       0            0    0   \n",
       "\n",
       "   Four-Door Car  Luxury Car  Luxury SUV  SUV  Sports Car  Two-Door Car  \n",
       "0              0           0           0    0           0             1  \n",
       "1              1           0           0    0           0             0  \n",
       "2              0           0           0    0           0             1  \n",
       "\n",
       "[3 rows x 48 columns]"
      ]
     },
     "execution_count": 61,
     "metadata": {},
     "output_type": "execute_result"
    }
   ],
   "source": [
    "clv_data.head(3)"
   ]
  },
  {
   "cell_type": "code",
   "execution_count": 62,
   "metadata": {},
   "outputs": [
    {
     "name": "stdout",
     "output_type": "stream",
     "text": [
      "<class 'pandas.core.frame.DataFrame'>\n",
      "RangeIndex: 9134 entries, 0 to 9133\n",
      "Data columns (total 48 columns):\n",
      "Customer Lifetime Value          9134 non-null float64\n",
      "Response                         9134 non-null int8\n",
      "Coverage                         9134 non-null int8\n",
      "Gender                           9134 non-null int8\n",
      "Income                           9134 non-null int64\n",
      "Monthly Premium Auto             9134 non-null int64\n",
      "Months Since Last Claim          9134 non-null int64\n",
      "Months Since Policy Inception    9134 non-null int64\n",
      "Number of Open Complaints        9134 non-null int64\n",
      "Number of Policies               9134 non-null int64\n",
      "Renew Offer Type                 9134 non-null int8\n",
      "Total Claim Amount               9134 non-null float64\n",
      "Vehicle Size                     9134 non-null int8\n",
      "Bachelor                         9134 non-null uint8\n",
      "College                          9134 non-null uint8\n",
      "Doctor                           9134 non-null uint8\n",
      "High School or Below             9134 non-null uint8\n",
      "Master                           9134 non-null uint8\n",
      "Disabled                         9134 non-null uint8\n",
      "Employed                         9134 non-null uint8\n",
      "Medical Leave                    9134 non-null uint8\n",
      "Retired                          9134 non-null uint8\n",
      "Unemployed                       9134 non-null uint8\n",
      "Divorced                         9134 non-null uint8\n",
      "Married                          9134 non-null uint8\n",
      "Single                           9134 non-null uint8\n",
      "Corporate Auto                   9134 non-null uint8\n",
      "Personal Auto                    9134 non-null uint8\n",
      "Special Auto                     9134 non-null uint8\n",
      "Corporate L1                     9134 non-null uint8\n",
      "Corporate L2                     9134 non-null uint8\n",
      "Corporate L3                     9134 non-null uint8\n",
      "Personal L1                      9134 non-null uint8\n",
      "Personal L2                      9134 non-null uint8\n",
      "Personal L3                      9134 non-null uint8\n",
      "Special L1                       9134 non-null uint8\n",
      "Special L2                       9134 non-null uint8\n",
      "Special L3                       9134 non-null uint8\n",
      "Agent                            9134 non-null uint8\n",
      "Branch                           9134 non-null uint8\n",
      "Call Center                      9134 non-null uint8\n",
      "Web                              9134 non-null uint8\n",
      "Four-Door Car                    9134 non-null uint8\n",
      "Luxury Car                       9134 non-null uint8\n",
      "Luxury SUV                       9134 non-null uint8\n",
      "SUV                              9134 non-null uint8\n",
      "Sports Car                       9134 non-null uint8\n",
      "Two-Door Car                     9134 non-null uint8\n",
      "dtypes: float64(2), int64(6), int8(5), uint8(35)\n",
      "memory usage: 927.8 KB\n"
     ]
    }
   ],
   "source": [
    "clv_data.info()"
   ]
  },
  {
   "cell_type": "code",
   "execution_count": 63,
   "metadata": {},
   "outputs": [],
   "source": [
    "#Before standardizing I will calculate mean squared errors and cv's\n",
    "#for 4 models with default parameters\n",
    "model_tree_clv_u = DecisionTreeRegressor(random_state=42)\n",
    "model_linear_clv_u = LinearRegression()\n",
    "model_rf_clv_u = RandomForestRegressor(random_state=42)\n",
    "model_gb_clv_u = GradientBoostingRegressor(random_state=42)"
   ]
  },
  {
   "cell_type": "code",
   "execution_count": 64,
   "metadata": {},
   "outputs": [],
   "source": [
    "#train test split for Unclear data\n",
    "y_u = clv_data['Customer Lifetime Value']\n",
    "x_u = clv_data.drop(['Customer Lifetime Value'],axis=1)\n",
    "x_train_u, x_test_u, y_train_u, y_test_u = train_test_split(x_u,y_u,test_size=0.25)"
   ]
  },
  {
   "cell_type": "code",
   "execution_count": 65,
   "metadata": {},
   "outputs": [
    {
     "data": {
      "text/plain": [
       "GradientBoostingRegressor(alpha=0.9, criterion='friedman_mse', init=None,\n",
       "             learning_rate=0.1, loss='ls', max_depth=3, max_features=None,\n",
       "             max_leaf_nodes=None, min_impurity_decrease=0.0,\n",
       "             min_impurity_split=None, min_samples_leaf=1,\n",
       "             min_samples_split=2, min_weight_fraction_leaf=0.0,\n",
       "             n_estimators=100, presort='auto', random_state=42,\n",
       "             subsample=1.0, verbose=0, warm_start=False)"
      ]
     },
     "execution_count": 65,
     "metadata": {},
     "output_type": "execute_result"
    }
   ],
   "source": [
    "#fitting\n",
    "model_tree_clv_u.fit(x_train_u,y_train_u)\n",
    "model_linear_clv_u.fit(x_train_u,y_train_u)\n",
    "model_rf_clv_u.fit(x_train_u,y_train_u)\n",
    "model_gb_clv_u.fit(x_train_u,y_train_u)"
   ]
  },
  {
   "cell_type": "code",
   "execution_count": 66,
   "metadata": {},
   "outputs": [
    {
     "name": "stdout",
     "output_type": "stream",
     "text": [
      "31509986.933772247\n",
      "39785774.39983444\n",
      "16300427.463072367\n",
      "15054570.316916186\n"
     ]
    }
   ],
   "source": [
    "#models with unstandardized data give large MSE-s\n",
    "model_tree_clv_u_pred = model_tree_clv_u.predict(x_test_u)\n",
    "model_linear_clv_u_pred = model_linear_clv_u.predict(x_test_u)\n",
    "model_rf_clv_u_pred = model_rf_clv_u.predict(x_test_u)\n",
    "model_gb_clv_u_pred = model_gb_clv_u.predict(x_test_u)\n",
    "print(mean_squared_error(y_test_u,model_tree_clv_u_pred))\n",
    "print(mean_squared_error(y_test_u,model_linear_clv_u_pred))\n",
    "print(mean_squared_error(y_test_u,model_rf_clv_u_pred))\n",
    "print(mean_squared_error(y_test_u,model_gb_clv_u_pred))"
   ]
  },
  {
   "cell_type": "code",
   "execution_count": 67,
   "metadata": {},
   "outputs": [],
   "source": [
    "#For this piece of data I am going to standardize using numpy with std and mean\n",
    "clv_data['Customer Lifetime Value']=(clv_data['Customer Lifetime Value']-np.mean(clv_data['Customer Lifetime Value'],axis=0))/np.std(clv_data['Customer Lifetime Value'])\n",
    "clv_data.Income=(clv_data.Income-np.mean(clv_data.Income,axis=0))/np.std(clv_data.Income)\n",
    "clv_data['Monthly Premium Auto'] =(clv_data['Monthly Premium Auto']-np.mean(clv_data['Monthly Premium Auto'] ,axis=0))/np.std(clv_data['Monthly Premium Auto'])\n",
    "clv_data['Months Since Policy Inception']=(clv_data['Months Since Policy Inception']-np.mean(clv_data['Months Since Policy Inception'],axis=0))/np.std(clv_data['Months Since Policy Inception'])\n",
    "clv_data['Months Since Last Claim']=(clv_data['Months Since Last Claim']-np.mean(clv_data['Months Since Last Claim'],axis=0))/np.std(clv_data['Months Since Last Claim'])\n",
    "clv_data['Total Claim Amount']=(clv_data['Total Claim Amount']-np.mean(clv_data['Total Claim Amount'],axis=0))/np.std(clv_data['Total Claim Amount'])\n",
    "clv_data['Number of Policies']=(clv_data['Number of Policies']-np.mean(clv_data['Number of Policies'],axis=0))/np.std(clv_data['Number of Policies'])\n",
    "clv_data['Number of Open Complaints'] = (clv_data['Number of Open Complaints']-np.mean(clv_data['Number of Open Complaints'],axis=0))/np.std(clv_data['Number of Open Complaints'])"
   ]
  },
  {
   "cell_type": "code",
   "execution_count": 68,
   "metadata": {},
   "outputs": [],
   "source": [
    "#train test split for standardized data\n",
    "y1=clv_data['Customer Lifetime Value'].values.reshape(-1,1)\n",
    "x1=clv_data.drop('Customer Lifetime Value',axis=1)\n",
    "x_train1, x_test1, y_train1, y_test1 = train_test_split(x,y,test_size=0.25,random_state=42)"
   ]
  },
  {
   "cell_type": "code",
   "execution_count": 69,
   "metadata": {},
   "outputs": [
    {
     "name": "stdout",
     "output_type": "stream",
     "text": [
      "0.09592326139088729\n",
      "0.10461095658860091\n",
      "0.0492326139088729\n",
      "0.047720592354529336\n"
     ]
    }
   ],
   "source": [
    "#I am going to fit models with default parameters to standardized data\n",
    "model_tree_clv_u.fit(x_train1,y_train1)\n",
    "model_linear_clv_u.fit(x_train1,y_train1)\n",
    "model_rf_clv_u.fit(x_train1,y_train1)\n",
    "model_gb_clv_u.fit(x_train1,y_train1)\n",
    "model_tree_clv_s_pred = model_tree_clv_u.predict(x_test1)\n",
    "model_linear_clv_s_pred = model_linear_clv_u.predict(x_test1)\n",
    "model_rf_clv_s_pred = model_rf_clv_u.predict(x_test1)\n",
    "model_gb_clv_s_pred = model_gb_clv_u.predict(x_test1)\n",
    "print(mean_squared_error(y_test1,model_tree_clv_s_pred))\n",
    "print(mean_squared_error(y_test1,model_linear_clv_s_pred))\n",
    "print(mean_squared_error(y_test1,model_rf_clv_s_pred))\n",
    "print(mean_squared_error(y_test1,model_gb_clv_s_pred))\n",
    "#Mean squared errors with normalized data are better than before"
   ]
  },
  {
   "cell_type": "markdown",
   "metadata": {},
   "source": [
    "### Decision Tree - Tuning"
   ]
  },
  {
   "cell_type": "code",
   "execution_count": 70,
   "metadata": {},
   "outputs": [
    {
     "name": "stdout",
     "output_type": "stream",
     "text": [
      "{'max_depth': 5, 'min_samples_leaf': 5, 'min_samples_split': 2}\n"
     ]
    }
   ],
   "source": [
    "#Applying GridSearchCV with scoring of \"neg_mean_squared_error\"\n",
    "dt_parameters = {'max_depth':[q for q in range(4,12)],\n",
    "                 'min_samples_leaf':[q for q in range(3,14,2)],\n",
    "                 'min_samples_split':[0.1,0.4,0.7,2,5,7]}\n",
    "dt_grid_search = GridSearchCV(model_tree_clv_u,dt_parameters,\n",
    "                              scoring=\"neg_mean_squared_error\")\n",
    "dt_grid_search.fit(x_train1,y_train1)\n",
    "print(dt_grid_search.best_params_)"
   ]
  },
  {
   "cell_type": "code",
   "execution_count": 71,
   "metadata": {},
   "outputs": [
    {
     "name": "stdout",
     "output_type": "stream",
     "text": [
      "0.05178695561667757\n"
     ]
    }
   ],
   "source": [
    "model_tree_clv_best = DecisionTreeRegressor(max_depth=5,min_samples_leaf=5,\n",
    "                                            min_samples_split=2,random_state=42)\n",
    "model_tree_clv_best.fit(x_train1,y_train1)\n",
    "model_tree_clv_best_pred = model_tree_clv_best.predict(x_test1)\n",
    "print(mean_squared_error(y_test1,model_tree_clv_best_pred))\n",
    "#MSE did better than with default parameters"
   ]
  },
  {
   "cell_type": "code",
   "execution_count": 72,
   "metadata": {},
   "outputs": [
    {
     "name": "stdout",
     "output_type": "stream",
     "text": [
      "{'min_samples_split': 7, 'min_samples_leaf': 9, 'max_depth': 9}\n"
     ]
    }
   ],
   "source": [
    "#I want to check what parameters would RandomizedSearch give\n",
    "dt_rand_search = RandomizedSearchCV(model_tree_clv_u, dt_parameters,\n",
    "                                    scoring=\"neg_mean_squared_error\")\n",
    "dt_rand_search.fit(x_train1,y_train1)\n",
    "print(dt_rand_search.best_params_)\n",
    "#Obviously parameters are different from GridSearchCV"
   ]
  },
  {
   "cell_type": "code",
   "execution_count": 73,
   "metadata": {},
   "outputs": [
    {
     "name": "stdout",
     "output_type": "stream",
     "text": [
      "0.05320635364005209\n"
     ]
    }
   ],
   "source": [
    "model_tree_clv_best_r = DecisionTreeRegressor(max_depth=6,min_samples_leaf=13,\n",
    "                                              min_samples_split=7,random_state=42)\n",
    "model_tree_clv_best_r.fit(x_train1,y_train1)\n",
    "model_tree_clv_best_r_pred = model_tree_clv_best_r.predict(x_test1)\n",
    "print(mean_squared_error(y_test1,model_tree_clv_best_r_pred))\n",
    "#MSE is close to the tree model with parameters from GridSearchCV"
   ]
  },
  {
   "cell_type": "markdown",
   "metadata": {},
   "source": [
    "### Random Forest - Tuning"
   ]
  },
  {
   "cell_type": "code",
   "execution_count": 74,
   "metadata": {},
   "outputs": [
    {
     "name": "stdout",
     "output_type": "stream",
     "text": [
      "{'max_depth': 9, 'max_features': 6, 'min_samples_leaf': 2, 'min_samples_split': 2, 'n_estimators': 600}\n"
     ]
    }
   ],
   "source": [
    "rf_parameters = {'max_depth': [q for q in range(6,10)],'max_features': [2,4,6],\n",
    "                 'min_samples_leaf': [2,3,4],'min_samples_split': [2,5],\n",
    "                 'n_estimators': [100, 300, 600]}\n",
    "rf_grid_search = GridSearchCV(estimator=model_rf_clv_u,param_grid=rf_parameters, scoring=\"neg_mean_squared_error\", n_jobs=2,cv=2)\n",
    "rf_grid_search.fit(x_train1,y_train1)\n",
    "print(rf_grid_search.best_params_)"
   ]
  },
  {
   "cell_type": "code",
   "execution_count": 75,
   "metadata": {},
   "outputs": [
    {
     "name": "stdout",
     "output_type": "stream",
     "text": [
      "0.04206826408662943\n"
     ]
    }
   ],
   "source": [
    "model_rf_clv_best = RandomForestRegressor(max_depth=9,max_features=6,\n",
    "                                          min_samples_split=2,min_samples_leaf=2,\n",
    "                                          n_estimators=600,random_state=42)\n",
    "model_rf_clv_best.fit(x_train1,y_train1)\n",
    "model_rf_clv_best_pred = model_rf_clv_best.predict(x_test1)\n",
    "print(mean_squared_error(y_test1,model_rf_clv_best_pred))\n",
    "#Gave better MSE than with default parameters"
   ]
  },
  {
   "cell_type": "markdown",
   "metadata": {},
   "source": [
    "### Gradient Boosting - Tuning"
   ]
  },
  {
   "cell_type": "code",
   "execution_count": 76,
   "metadata": {},
   "outputs": [
    {
     "name": "stdout",
     "output_type": "stream",
     "text": [
      "{'learning_rate': 0.1, 'max_depth': 6, 'max_features': 0.8, 'min_samples_leaf': 20}\n"
     ]
    }
   ],
   "source": [
    "gb_parameters = {'learning_rate': [0.1, 0.4, 0.7, 0.01],\n",
    "                 'max_depth': [6,7,8,10],'min_samples_leaf': [20, 95, 170],\n",
    "                 'max_features': [1.0, 0.3, 0.1,0.8]}\n",
    "gb_grid_search = GridSearchCV(estimator=model_gb_clv_u,\n",
    "                              param_grid=gb_parameters,scoring=\"neg_mean_squared_error\", \n",
    "                              n_jobs=2,cv=2)\n",
    "gb_grid_search.fit(x_train1,y_train1)\n",
    "print(gb_grid_search.best_params_)"
   ]
  },
  {
   "cell_type": "code",
   "execution_count": 77,
   "metadata": {},
   "outputs": [
    {
     "name": "stdout",
     "output_type": "stream",
     "text": [
      "0.03993778092390032\n"
     ]
    }
   ],
   "source": [
    "model_gb_clv_best = GradientBoostingRegressor(learning_rate=0.1,\n",
    "                                              max_depth=6,max_features=0.8,min_samples_leaf=20,\n",
    "                                              random_state=42)\n",
    "model_gb_clv_best.fit(x_train1,y_train1)\n",
    "model_gb_clv_best_pred = model_gb_clv_best.predict(x_test1)\n",
    "print(mean_squared_error(y_test1,model_gb_clv_best_pred))\n",
    "#Again, we have better MSE"
   ]
  },
  {
   "cell_type": "markdown",
   "metadata": {},
   "source": [
    "### Linear Regression - Tuning"
   ]
  },
  {
   "cell_type": "code",
   "execution_count": 78,
   "metadata": {},
   "outputs": [
    {
     "name": "stdout",
     "output_type": "stream",
     "text": [
      "0.17899321461423745\n",
      "0.17898134249996211\n",
      "0.10461095658860085\n"
     ]
    }
   ],
   "source": [
    "model_ln_clv = LinearRegression(normalize = True)\n",
    "model_ln_clv.fit(x_train1,y_train1)\n",
    "print(model_ln_clv.score(x_train,y_train))\n",
    "print(model_ln_clv.score(x_test,y_test))\n",
    "model_ln_clv_pred = model_ln_clv.predict(x_test)\n",
    "print(mean_squared_error(y_test,model_ln_clv_pred))"
   ]
  },
  {
   "cell_type": "markdown",
   "metadata": {},
   "source": [
    "To conclude, if we take into account MSE score as our main parameter for decision making, Gradient Boosting model with best parameters is the best model for CLV estimation.  "
   ]
  }
 ],
 "metadata": {
  "kernelspec": {
   "display_name": "Python 3",
   "language": "python",
   "name": "python3"
  },
  "language_info": {
   "codemirror_mode": {
    "name": "ipython",
    "version": 3
   },
   "file_extension": ".py",
   "mimetype": "text/x-python",
   "name": "python",
   "nbconvert_exporter": "python",
   "pygments_lexer": "ipython3",
   "version": "3.6.4"
  }
 },
 "nbformat": 4,
 "nbformat_minor": 2
}
