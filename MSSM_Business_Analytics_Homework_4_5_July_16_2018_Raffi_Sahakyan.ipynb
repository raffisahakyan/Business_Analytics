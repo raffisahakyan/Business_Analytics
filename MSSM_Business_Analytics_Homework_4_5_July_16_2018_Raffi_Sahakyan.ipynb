{
 "cells": [
  {
   "cell_type": "markdown",
   "metadata": {},
   "source": [
    "#### Homework 4 & 5\n",
    "##### Author: Raffi Sahakyan\n",
    "##### Course: Quantitative Tools for Management\n",
    "##### Professor: Hrant Davtyan"
   ]
  },
  {
   "cell_type": "markdown",
   "metadata": {},
   "source": [
    "<div style=\"text-align: justify\"> Homework submission for the course Quantitative Tools for Management taught by Dr. Hrant Davtyan as part of the program of Master of Science in Strategic Management at the American University of Armenia. Submitted by Raffi Sahakyan on July 16, 2018. </div>\n"
   ]
  },
  {
   "cell_type": "code",
   "execution_count": 1,
   "metadata": {},
   "outputs": [],
   "source": [
    "import pandas as pd"
   ]
  },
  {
   "cell_type": "code",
   "execution_count": null,
   "metadata": {},
   "outputs": [],
   "source": [
    "https://raw.githubusercontent.com/HrantDavtyan/MSSM_Business_Analytics/master/Homework_4_5.ipynb"
   ]
  }
 ],
 "metadata": {
  "kernelspec": {
   "display_name": "Python 3",
   "language": "python",
   "name": "python3"
  },
  "language_info": {
   "codemirror_mode": {
    "name": "ipython",
    "version": 3
   },
   "file_extension": ".py",
   "mimetype": "text/x-python",
   "name": "python",
   "nbconvert_exporter": "python",
   "pygments_lexer": "ipython3",
   "version": "3.6.4"
  }
 },
 "nbformat": 4,
 "nbformat_minor": 2
}
