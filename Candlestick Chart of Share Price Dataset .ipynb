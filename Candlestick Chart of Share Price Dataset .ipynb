{
 "cells": [
  {
   "cell_type": "markdown",
   "metadata": {},
   "source": [
    "#### Candlestick Chart with Plotly"
   ]
  },
  {
   "cell_type": "markdown",
   "metadata": {},
   "source": [
    "This work will provide basic candlestick visualization of apple share price dataset. Additionally, moving averages will be ploted in line with Bollinger Bands. "
   ]
  },
  {
   "cell_type": "markdown",
   "metadata": {},
   "source": [
    "Financial data is often plotted with a Japanese candlestick plot, so named because it was first created by 18th century Japanese rice traders. Such a chart can be created with matplotlib, though it requires considerable effort. However, plotly provides an opportunity to plot the candlestick chart easier. Bollinger Bands are a type of statistical chart characterizing the prices and volatility over time of a financial instrument or commodity, using a formulaic method propounded by John Bollinger in the 1980s. "
   ]
  },
  {
   "cell_type": "code",
   "execution_count": 1,
   "metadata": {},
   "outputs": [],
   "source": [
    "import pandas as pd\n",
    "import numpy as np\n",
    "import matplotlib.pyplot as plt\n",
    "import datetime\n",
    "\n",
    "import quandl\n",
    "quandl.ApiConfig.api_key = 'Insert Your API'\n",
    "\n",
    "import plotly.plotly as py\n",
    "import plotly.graph_objs as go\n",
    "py.sign_in('your_login', 'Plotly_API')"
   ]
  },
  {
   "cell_type": "code",
   "execution_count": 2,
   "metadata": {},
   "outputs": [
    {
     "data": {
      "text/html": [
       "<div>\n",
       "<style scoped>\n",
       "    .dataframe tbody tr th:only-of-type {\n",
       "        vertical-align: middle;\n",
       "    }\n",
       "\n",
       "    .dataframe tbody tr th {\n",
       "        vertical-align: top;\n",
       "    }\n",
       "\n",
       "    .dataframe thead th {\n",
       "        text-align: right;\n",
       "    }\n",
       "</style>\n",
       "<table border=\"1\" class=\"dataframe\">\n",
       "  <thead>\n",
       "    <tr style=\"text-align: right;\">\n",
       "      <th></th>\n",
       "      <th>Open</th>\n",
       "      <th>High</th>\n",
       "      <th>Low</th>\n",
       "      <th>Close</th>\n",
       "      <th>Volume</th>\n",
       "      <th>Ex-Dividend</th>\n",
       "      <th>Split Ratio</th>\n",
       "      <th>Adj. Open</th>\n",
       "      <th>Adj. High</th>\n",
       "      <th>Adj. Low</th>\n",
       "      <th>Adj. Close</th>\n",
       "      <th>Adj. Volume</th>\n",
       "    </tr>\n",
       "    <tr>\n",
       "      <th>Date</th>\n",
       "      <th></th>\n",
       "      <th></th>\n",
       "      <th></th>\n",
       "      <th></th>\n",
       "      <th></th>\n",
       "      <th></th>\n",
       "      <th></th>\n",
       "      <th></th>\n",
       "      <th></th>\n",
       "      <th></th>\n",
       "      <th></th>\n",
       "      <th></th>\n",
       "    </tr>\n",
       "  </thead>\n",
       "  <tbody>\n",
       "    <tr>\n",
       "      <th>2018-03-23</th>\n",
       "      <td>41.14</td>\n",
       "      <td>41.54</td>\n",
       "      <td>40.51</td>\n",
       "      <td>40.51</td>\n",
       "      <td>10917445.0</td>\n",
       "      <td>0.0</td>\n",
       "      <td>1.0</td>\n",
       "      <td>41.14</td>\n",
       "      <td>41.54</td>\n",
       "      <td>40.51</td>\n",
       "      <td>40.51</td>\n",
       "      <td>10917445.0</td>\n",
       "    </tr>\n",
       "    <tr>\n",
       "      <th>2018-03-26</th>\n",
       "      <td>41.06</td>\n",
       "      <td>41.40</td>\n",
       "      <td>40.68</td>\n",
       "      <td>41.33</td>\n",
       "      <td>7208515.0</td>\n",
       "      <td>0.0</td>\n",
       "      <td>1.0</td>\n",
       "      <td>41.06</td>\n",
       "      <td>41.40</td>\n",
       "      <td>40.68</td>\n",
       "      <td>41.33</td>\n",
       "      <td>7208515.0</td>\n",
       "    </tr>\n",
       "    <tr>\n",
       "      <th>2018-03-27</th>\n",
       "      <td>41.71</td>\n",
       "      <td>41.72</td>\n",
       "      <td>40.69</td>\n",
       "      <td>40.91</td>\n",
       "      <td>6570556.0</td>\n",
       "      <td>0.0</td>\n",
       "      <td>1.0</td>\n",
       "      <td>41.71</td>\n",
       "      <td>41.72</td>\n",
       "      <td>40.69</td>\n",
       "      <td>40.91</td>\n",
       "      <td>6570556.0</td>\n",
       "    </tr>\n",
       "  </tbody>\n",
       "</table>\n",
       "</div>"
      ],
      "text/plain": [
       "             Open   High    Low  Close      Volume  Ex-Dividend  Split Ratio  \\\n",
       "Date                                                                           \n",
       "2018-03-23  41.14  41.54  40.51  40.51  10917445.0          0.0          1.0   \n",
       "2018-03-26  41.06  41.40  40.68  41.33   7208515.0          0.0          1.0   \n",
       "2018-03-27  41.71  41.72  40.69  40.91   6570556.0          0.0          1.0   \n",
       "\n",
       "            Adj. Open  Adj. High  Adj. Low  Adj. Close  Adj. Volume  \n",
       "Date                                                                 \n",
       "2018-03-23      41.14      41.54     40.51       40.51   10917445.0  \n",
       "2018-03-26      41.06      41.40     40.68       41.33    7208515.0  \n",
       "2018-03-27      41.71      41.72     40.69       40.91    6570556.0  "
      ]
     },
     "execution_count": 2,
     "metadata": {},
     "output_type": "execute_result"
    }
   ],
   "source": [
    "start = datetime.datetime(2015,1,1)\n",
    "end = datetime.date.today()\n",
    "\n",
    "#as an example Mondelez share price dataset is chosen\n",
    "\n",
    "mdlz = quandl.get(\"WIKI/\" + \"MDLZ\", start_date=start, end_date=end)\n",
    "mdlz.tail(3)"
   ]
  },
  {
   "cell_type": "code",
   "execution_count": 4,
   "metadata": {},
   "outputs": [],
   "source": [
    "mdlz[\"14d\"] = np.round(mdlz[\"Adj. Close\"].rolling(window = 14, center = False).mean(), 3)\n",
    "mdlz[\"20d\"] = np.round(mdlz[\"Adj. Close\"].rolling(window = 20, center = False).mean(), 3)\n",
    "mdlz[\"200d\"] = np.round(mdlz[\"Adj. Close\"].rolling(window = 200, center = False).mean(), 3)\n",
    "\n",
    "mdlz['20 Day STD'] = np.round(mdlz[\"Adj. Close\"].rolling(window = 20, center = False).std(), 3)\n",
    "mdlz['Upper Band'] = mdlz[\"20d\"] + (mdlz['20 Day STD'] * 2)\n",
    "mdlz['Lower Band'] = mdlz[\"20d\"] - (mdlz['20 Day STD'] * 2)"
   ]
  },
  {
   "cell_type": "code",
   "execution_count": 5,
   "metadata": {},
   "outputs": [
    {
     "data": {
      "text/html": [
       "<iframe id=\"igraph\" scrolling=\"no\" style=\"border:none;\" seamless=\"seamless\" src=\"https://plot.ly/~rafsahakyan/6.embed\" height=\"525px\" width=\"100%\"></iframe>"
      ],
      "text/plain": [
       "<plotly.tools.PlotlyDisplay object>"
      ]
     },
     "execution_count": 5,
     "metadata": {},
     "output_type": "execute_result"
    }
   ],
   "source": [
    "#Candlestick chart with plotly\n",
    "trace_1 = go.Candlestick(x=mdlz.index, open=mdlz.Open, name = 'GS', high=mdlz.High, low=mdlz.Low, \n",
    "                         close=mdlz.Close, increasing=dict(line=dict(color= '#17BECF')),\n",
    "                       decreasing=dict(line=dict(color= '#7F7F7F')))\n",
    "\n",
    "trace_2 = go.Scatter(\n",
    "    x = mdlz.index,\n",
    "    y = mdlz[\"20d\"], name = '20d MA', mode = 'lines', line = dict(\n",
    "        color = 'gold', width=1))\n",
    "trace_3 = go.Scatter(\n",
    "    x = mdlz.index, \n",
    "    y = mdlz[\"200d\"], name = '200d MA', mode = 'lines', line = dict(\n",
    "        color = ('rgb(22, 96, 167)'), shape='spline', width=1))\n",
    "trace_4 = go.Scatter(\n",
    "    x = mdlz.index, \n",
    "    y = mdlz['Upper Band'], legendgroup=\"Bollinger Bands\", name = 'U-Band', mode = 'lines', line = dict(\n",
    "        color = 'darkkhaki', shape='spline', width=.4))\n",
    "trace_5 = go.Scatter(\n",
    "    x = mdlz.index, \n",
    "    y = mdlz['Lower Band'],\n",
    "  legendgroup=\"Bollinger Bands\",name = 'L-Band',showlegend=True, mode = 'lines', line = dict(\n",
    "        color = 'darkkhaki', shape='spline', width=.4))\n",
    "\n",
    "data_plotly= [trace_1, trace_2, trace_3, trace_4, trace_5]\n",
    "layout = go.Layout(title='Mondelez CandleStciks with Moving Averages',legend=dict(orientation=\"h\"),\n",
    "                   xaxis = dict(rangeslider = dict(visible = False)))\n",
    "\n",
    "\n",
    "fig_plotly = go.Figure(data=data_plotly,layout=layout)\n",
    "py.iplot(fig_plotly, filename='candlestick with MAs')"
   ]
  }
 ],
 "metadata": {
  "kernelspec": {
   "display_name": "Python 3",
   "language": "python",
   "name": "python3"
  },
  "language_info": {
   "codemirror_mode": {
    "name": "ipython",
    "version": 3
   },
   "file_extension": ".py",
   "mimetype": "text/x-python",
   "name": "python",
   "nbconvert_exporter": "python",
   "pygments_lexer": "ipython3",
   "version": "3.6.4"
  }
 },
 "nbformat": 4,
 "nbformat_minor": 2
}
